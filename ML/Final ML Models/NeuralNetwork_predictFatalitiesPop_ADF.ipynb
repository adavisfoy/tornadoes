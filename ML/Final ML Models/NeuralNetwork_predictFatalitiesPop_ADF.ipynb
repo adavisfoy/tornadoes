{
  "cells": [
    {
      "cell_type": "markdown",
      "metadata": {
        "id": "MSPohgKbP_Nx"
      },
      "source": [
        "# This script uses a Neural Network to predict number of tornado fatalities given EF rating, number of Injuries, Length (miles), and Width (yds)"
      ]
    },
    {
      "cell_type": "code",
      "source": [
        "!pip3 install ann_visualizer\n",
        "!pip install graphviz"
      ],
      "metadata": {
        "colab": {
          "base_uri": "https://localhost:8080/"
        },
        "id": "W1jR0nHG5rBj",
        "outputId": "8c2ae90e-2ded-444d-fa33-9c23fb370546"
      },
      "execution_count": 5,
      "outputs": [
        {
          "output_type": "stream",
          "name": "stdout",
          "text": [
            "Looking in indexes: https://pypi.org/simple, https://us-python.pkg.dev/colab-wheels/public/simple/\n",
            "Requirement already satisfied: ann_visualizer in /usr/local/lib/python3.7/dist-packages (2.5)\n",
            "Looking in indexes: https://pypi.org/simple, https://us-python.pkg.dev/colab-wheels/public/simple/\n",
            "Requirement already satisfied: graphviz in /usr/local/lib/python3.7/dist-packages (0.10.1)\n"
          ]
        }
      ]
    },
    {
      "cell_type": "code",
      "execution_count": 6,
      "metadata": {
        "id": "ec7mg1vlP_Nz"
      },
      "outputs": [],
      "source": [
        "# Import our dependencies\n",
        "from sklearn.model_selection import train_test_split\n",
        "from sklearn.preprocessing import StandardScaler\n",
        "import pandas as pd\n",
        "import tensorflow as tf\n",
        "import matplotlib.pyplot as plt\n",
        "import numpy"
      ]
    },
    {
      "cell_type": "markdown",
      "metadata": {
        "id": "geL60gIf-_9F"
      },
      "source": [
        "### 1. Import & Inspect the Data"
      ]
    },
    {
      "cell_type": "code",
      "source": [
        "# # Connect to Google Drive\n",
        "# from google.colab import drive \n",
        "# drive.mount('/content/gdrive')"
      ],
      "metadata": {
        "id": "UjViP2j02fS-"
      },
      "execution_count": 7,
      "outputs": []
    },
    {
      "cell_type": "code",
      "execution_count": 8,
      "metadata": {
        "id": "LGNf4KUcRCKR"
      },
      "outputs": [],
      "source": [
        "# # Loading data\n",
        "# tornado_df = pd.read_csv(\"gdrive/My Drive/Colab Notebooks/Final_Project/2008-2020_tornadoes_EF_cleaned.csv\")\n",
        "# tornado_df"
      ]
    },
    {
      "cell_type": "code",
      "source": [
        "# Apache Spark Set Up\n",
        "\n",
        "import os\n",
        "# Find the latest version of spark 3.0 from http://www.apache.org/dist/spark/ and enter as the spark version\n",
        "# For example:\n",
        "# spark_version = 'spark-3.0.3'\n",
        "spark_version = 'spark-3.3.0'\n",
        "os.environ['SPARK_VERSION']=spark_version\n",
        "\n",
        "# Install Spark and Java\n",
        "!apt-get update\n",
        "!apt-get install openjdk-11-jdk-headless -qq > /dev/null\n",
        "!wget -q http://www.apache.org/dist/spark/$SPARK_VERSION/$SPARK_VERSION-bin-hadoop3.tgz\n",
        "!tar xf $SPARK_VERSION-bin-hadoop3.tgz\n",
        "!pip install -q findspark\n",
        "\n",
        "# Set Environment Variables\n",
        "import os\n",
        "os.environ[\"JAVA_HOME\"] = \"/usr/lib/jvm/java-11-openjdk-amd64\"\n",
        "os.environ[\"SPARK_HOME\"] = f\"/content/{spark_version}-bin-hadoop3\"\n",
        "\n",
        "# Start a SparkSession\n",
        "import findspark\n",
        "findspark.init()"
      ],
      "metadata": {
        "colab": {
          "base_uri": "https://localhost:8080/"
        },
        "id": "a6Ya_AtotJcC",
        "outputId": "0e679fe1-4b36-4b55-a894-69fe28d1f036"
      },
      "execution_count": 9,
      "outputs": [
        {
          "output_type": "stream",
          "name": "stdout",
          "text": [
            "\r0% [Working]\r            \rGet:1 http://security.ubuntu.com/ubuntu bionic-security InRelease [88.7 kB]\n",
            "\r0% [Connecting to archive.ubuntu.com] [1 InRelease 14.2 kB/88.7 kB 16%] [Waitin\r                                                                               \rHit:2 https://cloud.r-project.org/bin/linux/ubuntu bionic-cran40/ InRelease\n",
            "\r0% [Connecting to archive.ubuntu.com] [1 InRelease 14.2 kB/88.7 kB 16%] [Waitin\r0% [2 InRelease gpgv 3,626 B] [Connecting to archive.ubuntu.com] [1 InRelease 1\r                                                                               \rIgn:3 https://developer.download.nvidia.com/compute/machine-learning/repos/ubuntu1804/x86_64  InRelease\n",
            "\r0% [2 InRelease gpgv 3,626 B] [Connecting to archive.ubuntu.com (185.125.190.39\r                                                                               \rHit:4 https://developer.download.nvidia.com/compute/cuda/repos/ubuntu1804/x86_64  InRelease\n",
            "Hit:5 https://developer.download.nvidia.com/compute/machine-learning/repos/ubuntu1804/x86_64  Release\n",
            "Hit:6 http://ppa.launchpad.net/c2d4u.team/c2d4u4.0+/ubuntu bionic InRelease\n",
            "Hit:7 http://archive.ubuntu.com/ubuntu bionic InRelease\n",
            "Get:8 http://archive.ubuntu.com/ubuntu bionic-updates InRelease [88.7 kB]\n",
            "Hit:9 http://ppa.launchpad.net/cran/libgit2/ubuntu bionic InRelease\n",
            "Hit:11 http://ppa.launchpad.net/deadsnakes/ppa/ubuntu bionic InRelease\n",
            "Get:12 http://archive.ubuntu.com/ubuntu bionic-backports InRelease [74.6 kB]\n",
            "Hit:13 http://ppa.launchpad.net/graphics-drivers/ppa/ubuntu bionic InRelease\n",
            "Fetched 252 kB in 2s (112 kB/s)\n",
            "Reading package lists... Done\n"
          ]
        }
      ]
    },
    {
      "cell_type": "markdown",
      "source": [],
      "metadata": {
        "id": "1CNM1yqu2zCY"
      }
    },
    {
      "cell_type": "code",
      "source": [
        "# Start Spark session\n",
        "from pyspark.sql import SparkSession\n",
        "spark = SparkSession.builder.appName(\"Tornadoes\").getOrCreate()"
      ],
      "metadata": {
        "id": "naAMDn7GtMy7"
      },
      "execution_count": 10,
      "outputs": []
    },
    {
      "cell_type": "code",
      "source": [
        "# Read in data from S3 Buckets\n",
        "from pyspark import SparkFiles\n",
        "url =\"https://group-2-project-tornadoes.s3.amazonaws.com/joined_torn_pop_data_2010-2019_db.csv\"\n",
        "spark.sparkContext.addFile(url)\n",
        "tornado = spark.read.csv(SparkFiles.get(\"joined_torn_pop_data_2010-2019_db.csv\"), sep=\",\", header=True)\n",
        "\n",
        "# Show DataFrame\n",
        "tornado.show()"
      ],
      "metadata": {
        "colab": {
          "base_uri": "https://localhost:8080/"
        },
        "id": "w2a8HZcetTL4",
        "outputId": "f9a28c59-e647-415d-9c66-5baec311f456"
      },
      "execution_count": 11,
      "outputs": [
        {
          "output_type": "stream",
          "name": "stdout",
          "text": [
            "+-------+---------+----+-----+---+-------------------+-------+---------+---------+---------+-------+--------+---+--------+----------+------+---------+------+-----+--------+\n",
            "|torn_id|county_id|year|month|day|          timestamp|st_fips|cnty_fips|start_lat|start_lon|end_lat| end_lon| ef|injuries|fatalities|  loss|crop_loss|length|width|cnty_pop|\n",
            "+-------+---------+----+-----+---+-------------------+-------+---------+---------+---------+-------+--------+---+--------+----------+------+---------+------+-----+--------+\n",
            "|   6974|    29181|2013|   10| 31|2013-10-31 17:11:00|     29|      181|  36.5862| -90.7416|36.5744|-90.6681|  1|       0|         0|100000|     null|  4.16|  150|   13985|\n",
            "|   6975|    29023|2013|   10| 31|2013-10-31 17:30:00|     29|       23|  36.6338|   -90.47|36.6351|-90.4664|  1|       0|         0| 80000|     null|  0.22|   50|   42961|\n",
            "|   6976|    29023|2013|   10| 31|2013-10-31 17:48:00|     29|       23|  36.6954| -90.2691|36.7363|-90.1798|  1|       0|         0|100000|     null|   5.7|   75|   42961|\n",
            "|   6977|    29017|2013|   10| 31|2013-10-31 17:54:00|     29|       17|    37.25| -89.9482|  37.25|-89.9209|  1|       0|         0| 70000|     null|   1.5|  200|   12481|\n",
            "|   6978|    29207|2013|   10| 31|2013-10-31 18:02:00|     29|      207|  36.7312| -90.0338|36.7637|-89.7797|  1|       0|         0| 75000|     null| 14.25|  100|   29795|\n",
            "|   6979|    29031|2013|   10| 31|2013-10-31 18:05:00|     29|       31|  37.2807| -89.7086|37.2756|-89.6379|  1|       0|         0|130000|     null|   3.9|  150|   77458|\n",
            "|   6980|    17003|2013|   10| 31|2013-10-31 18:20:00|     17|        3|  37.2956| -89.5108|37.2953|-89.4883|  0|       0|         0|100000|     null|  1.24|  200|    7238|\n",
            "|   6981|    29207|2013|   10| 31|2013-10-31 18:24:00|     29|      207|  36.7332|   -89.85|36.7466|-89.8194|  2|       0|         0|800000|     null|  1.93|  100|   29795|\n",
            "|   6982|    17003|2013|   10| 31|2013-10-31 18:35:00|     17|        3|  37.3168|   -89.27|37.3301|-89.1528|  1|       0|         0| 20000|     null|  6.51|   50|    7238|\n",
            "|   6983|     5031|2013|   10| 31|2013-10-31 18:37:00|      5|       31|  35.7476| -90.3763|35.7617|-90.3128|  1|       0|         0|500000|     null|  3.69|  300|  101653|\n",
            "|   6984|    29143|2013|   10| 31|2013-10-31 18:40:00|     29|      143|  36.8079| -89.6258|36.8296|-89.5791|  1|       0|         0|175000|     null|  2.99|   50|   18316|\n",
            "|   6985|    17199|2013|   10| 31|2013-10-31 18:51:00|     17|      199|  37.6055|   -88.83|  37.62|-88.6469|  1|       0|         0|110000|     null|   9.9|  175|   67450|\n",
            "|   6986|    17087|2013|   10| 31|2013-10-31 18:56:00|     17|       87|  37.3321| -88.9701|37.3363|-88.9585|  1|       0|         0| 30000|     null|   0.7|   50|   12867|\n",
            "|   6987|    29000|2013|   10| 31|2013-10-31 19:05:00|     29|        0|    36.92|   -89.22|36.9409|-89.0847|  1|       0|         0|105000|     null|  7.62|  200| 6040715|\n",
            "|   6988|    29133|2013|   10| 31|2013-10-31 19:05:00|     29|      133|    36.92|   -89.22|36.9401|-89.1013|  1|       0|         0| 90000|     null|   6.7|  200|   14174|\n",
            "|   6989|    21007|2013|   10| 31|2013-10-31 19:14:00|     21|        7|  36.9395| -89.1012|36.9409|-89.0847|  1|       0|         0| 15000|     null|  0.92|  200|    8252|\n",
            "|   6990|    21039|2013|   10| 31|2013-10-31 19:25:00|     21|       39|  36.9038| -88.8899|36.9725|-88.7683|  1|       0|         0|203000|     null|  8.26|  200|    4959|\n",
            "|   6991|    21007|2013|   10| 31|2013-10-31 19:30:00|     21|        7|  36.9605| -88.9358|36.9627| -88.933|  0|       0|         0| 15000|     null|  0.22|   70|    8252|\n",
            "|   6992|    21145|2013|   10| 31|2013-10-31 19:39:00|     21|      145|  36.9447| -88.7089|36.9594|-88.6747|  1|       0|         0|100000|     null|  2.15|  225|   65337|\n",
            "|   6993|    21145|2013|   10| 31|2013-10-31 19:48:00|     21|      145|  36.9773| -88.5156|36.9785|-88.4978|  0|       0|         0| 15000|     null|  0.98|   40|   65337|\n",
            "+-------+---------+----+-----+---+-------------------+-------+---------+---------+---------+-------+--------+---+--------+----------+------+---------+------+-----+--------+\n",
            "only showing top 20 rows\n",
            "\n"
          ]
        }
      ]
    },
    {
      "cell_type": "code",
      "source": [
        "# Convert spark object to pandas dataframe\n",
        "tornado_df = tornado.toPandas()\n",
        "tornado_df"
      ],
      "metadata": {
        "colab": {
          "base_uri": "https://localhost:8080/",
          "height": 424
        },
        "id": "B_sBwmbHt_7t",
        "outputId": "a5883116-b9d1-40db-9114-9032eb571a3f"
      },
      "execution_count": 12,
      "outputs": [
        {
          "output_type": "execute_result",
          "data": {
            "text/plain": [
              "      torn_id county_id  year month day            timestamp st_fips  \\\n",
              "0        6974     29181  2013    10  31  2013-10-31 17:11:00      29   \n",
              "1        6975     29023  2013    10  31  2013-10-31 17:30:00      29   \n",
              "2        6976     29023  2013    10  31  2013-10-31 17:48:00      29   \n",
              "3        6977     29017  2013    10  31  2013-10-31 17:54:00      29   \n",
              "4        6978     29207  2013    10  31  2013-10-31 18:02:00      29   \n",
              "...       ...       ...   ...   ...  ..                  ...     ...   \n",
              "11963    6956     34007  2012     9   4  2012-09-04 16:31:00      34   \n",
              "11964    6957     55043  2012     9   4  2012-09-04 18:37:00      55   \n",
              "11965    6958     39025  2012     9   7  2012-09-07 22:36:00      39   \n",
              "11966    6959     36081  2012     9   8  2012-09-08 08:58:00      36   \n",
              "11967    6960      6065  2012     9   9  2012-09-09 15:00:00       6   \n",
              "\n",
              "      cnty_fips start_lat start_lon  end_lat   end_lon ef injuries fatalities  \\\n",
              "0           181   36.5862  -90.7416  36.5744  -90.6681  1        0          0   \n",
              "1            23   36.6338    -90.47  36.6351  -90.4664  1        0          0   \n",
              "2            23   36.6954  -90.2691  36.7363  -90.1798  1        0          0   \n",
              "3            17     37.25  -89.9482    37.25  -89.9209  1        0          0   \n",
              "4           207   36.7312  -90.0338  36.7637  -89.7797  1        0          0   \n",
              "...         ...       ...       ...      ...       ... ..      ...        ...   \n",
              "11963         7   39.8772  -75.0975  39.8794  -75.0965  0        0          0   \n",
              "11964        43   42.9089   -90.995  42.9025  -90.9839  2        0          0   \n",
              "11965        25    39.173   -84.144   39.175   -84.141  0        0          0   \n",
              "11966        81   40.5468  -73.9329  40.6337   -73.894  1        0          0   \n",
              "11967        65     33.78   -117.23    33.78   -117.23  0        0          0   \n",
              "\n",
              "         loss crop_loss length width cnty_pop  \n",
              "0      100000      None   4.16   150    13985  \n",
              "1       80000      None   0.22    50    42961  \n",
              "2      100000      None    5.7    75    42961  \n",
              "3       70000      None    1.5   200    12481  \n",
              "4       75000      None  14.25   100    29795  \n",
              "...       ...       ...    ...   ...      ...  \n",
              "11963   25000      None   0.16    25   511584  \n",
              "11964  420000      8000   0.72    75    50871  \n",
              "11965   40000      None   0.21    25   199487  \n",
              "11966  270000      None   4.74    50  2272222  \n",
              "11967    None      None   0.01    10  2261204  \n",
              "\n",
              "[11968 rows x 20 columns]"
            ],
            "text/html": [
              "\n",
              "  <div id=\"df-610e0288-021c-40d8-a1e8-fb61db649310\">\n",
              "    <div class=\"colab-df-container\">\n",
              "      <div>\n",
              "<style scoped>\n",
              "    .dataframe tbody tr th:only-of-type {\n",
              "        vertical-align: middle;\n",
              "    }\n",
              "\n",
              "    .dataframe tbody tr th {\n",
              "        vertical-align: top;\n",
              "    }\n",
              "\n",
              "    .dataframe thead th {\n",
              "        text-align: right;\n",
              "    }\n",
              "</style>\n",
              "<table border=\"1\" class=\"dataframe\">\n",
              "  <thead>\n",
              "    <tr style=\"text-align: right;\">\n",
              "      <th></th>\n",
              "      <th>torn_id</th>\n",
              "      <th>county_id</th>\n",
              "      <th>year</th>\n",
              "      <th>month</th>\n",
              "      <th>day</th>\n",
              "      <th>timestamp</th>\n",
              "      <th>st_fips</th>\n",
              "      <th>cnty_fips</th>\n",
              "      <th>start_lat</th>\n",
              "      <th>start_lon</th>\n",
              "      <th>end_lat</th>\n",
              "      <th>end_lon</th>\n",
              "      <th>ef</th>\n",
              "      <th>injuries</th>\n",
              "      <th>fatalities</th>\n",
              "      <th>loss</th>\n",
              "      <th>crop_loss</th>\n",
              "      <th>length</th>\n",
              "      <th>width</th>\n",
              "      <th>cnty_pop</th>\n",
              "    </tr>\n",
              "  </thead>\n",
              "  <tbody>\n",
              "    <tr>\n",
              "      <th>0</th>\n",
              "      <td>6974</td>\n",
              "      <td>29181</td>\n",
              "      <td>2013</td>\n",
              "      <td>10</td>\n",
              "      <td>31</td>\n",
              "      <td>2013-10-31 17:11:00</td>\n",
              "      <td>29</td>\n",
              "      <td>181</td>\n",
              "      <td>36.5862</td>\n",
              "      <td>-90.7416</td>\n",
              "      <td>36.5744</td>\n",
              "      <td>-90.6681</td>\n",
              "      <td>1</td>\n",
              "      <td>0</td>\n",
              "      <td>0</td>\n",
              "      <td>100000</td>\n",
              "      <td>None</td>\n",
              "      <td>4.16</td>\n",
              "      <td>150</td>\n",
              "      <td>13985</td>\n",
              "    </tr>\n",
              "    <tr>\n",
              "      <th>1</th>\n",
              "      <td>6975</td>\n",
              "      <td>29023</td>\n",
              "      <td>2013</td>\n",
              "      <td>10</td>\n",
              "      <td>31</td>\n",
              "      <td>2013-10-31 17:30:00</td>\n",
              "      <td>29</td>\n",
              "      <td>23</td>\n",
              "      <td>36.6338</td>\n",
              "      <td>-90.47</td>\n",
              "      <td>36.6351</td>\n",
              "      <td>-90.4664</td>\n",
              "      <td>1</td>\n",
              "      <td>0</td>\n",
              "      <td>0</td>\n",
              "      <td>80000</td>\n",
              "      <td>None</td>\n",
              "      <td>0.22</td>\n",
              "      <td>50</td>\n",
              "      <td>42961</td>\n",
              "    </tr>\n",
              "    <tr>\n",
              "      <th>2</th>\n",
              "      <td>6976</td>\n",
              "      <td>29023</td>\n",
              "      <td>2013</td>\n",
              "      <td>10</td>\n",
              "      <td>31</td>\n",
              "      <td>2013-10-31 17:48:00</td>\n",
              "      <td>29</td>\n",
              "      <td>23</td>\n",
              "      <td>36.6954</td>\n",
              "      <td>-90.2691</td>\n",
              "      <td>36.7363</td>\n",
              "      <td>-90.1798</td>\n",
              "      <td>1</td>\n",
              "      <td>0</td>\n",
              "      <td>0</td>\n",
              "      <td>100000</td>\n",
              "      <td>None</td>\n",
              "      <td>5.7</td>\n",
              "      <td>75</td>\n",
              "      <td>42961</td>\n",
              "    </tr>\n",
              "    <tr>\n",
              "      <th>3</th>\n",
              "      <td>6977</td>\n",
              "      <td>29017</td>\n",
              "      <td>2013</td>\n",
              "      <td>10</td>\n",
              "      <td>31</td>\n",
              "      <td>2013-10-31 17:54:00</td>\n",
              "      <td>29</td>\n",
              "      <td>17</td>\n",
              "      <td>37.25</td>\n",
              "      <td>-89.9482</td>\n",
              "      <td>37.25</td>\n",
              "      <td>-89.9209</td>\n",
              "      <td>1</td>\n",
              "      <td>0</td>\n",
              "      <td>0</td>\n",
              "      <td>70000</td>\n",
              "      <td>None</td>\n",
              "      <td>1.5</td>\n",
              "      <td>200</td>\n",
              "      <td>12481</td>\n",
              "    </tr>\n",
              "    <tr>\n",
              "      <th>4</th>\n",
              "      <td>6978</td>\n",
              "      <td>29207</td>\n",
              "      <td>2013</td>\n",
              "      <td>10</td>\n",
              "      <td>31</td>\n",
              "      <td>2013-10-31 18:02:00</td>\n",
              "      <td>29</td>\n",
              "      <td>207</td>\n",
              "      <td>36.7312</td>\n",
              "      <td>-90.0338</td>\n",
              "      <td>36.7637</td>\n",
              "      <td>-89.7797</td>\n",
              "      <td>1</td>\n",
              "      <td>0</td>\n",
              "      <td>0</td>\n",
              "      <td>75000</td>\n",
              "      <td>None</td>\n",
              "      <td>14.25</td>\n",
              "      <td>100</td>\n",
              "      <td>29795</td>\n",
              "    </tr>\n",
              "    <tr>\n",
              "      <th>...</th>\n",
              "      <td>...</td>\n",
              "      <td>...</td>\n",
              "      <td>...</td>\n",
              "      <td>...</td>\n",
              "      <td>...</td>\n",
              "      <td>...</td>\n",
              "      <td>...</td>\n",
              "      <td>...</td>\n",
              "      <td>...</td>\n",
              "      <td>...</td>\n",
              "      <td>...</td>\n",
              "      <td>...</td>\n",
              "      <td>...</td>\n",
              "      <td>...</td>\n",
              "      <td>...</td>\n",
              "      <td>...</td>\n",
              "      <td>...</td>\n",
              "      <td>...</td>\n",
              "      <td>...</td>\n",
              "      <td>...</td>\n",
              "    </tr>\n",
              "    <tr>\n",
              "      <th>11963</th>\n",
              "      <td>6956</td>\n",
              "      <td>34007</td>\n",
              "      <td>2012</td>\n",
              "      <td>9</td>\n",
              "      <td>4</td>\n",
              "      <td>2012-09-04 16:31:00</td>\n",
              "      <td>34</td>\n",
              "      <td>7</td>\n",
              "      <td>39.8772</td>\n",
              "      <td>-75.0975</td>\n",
              "      <td>39.8794</td>\n",
              "      <td>-75.0965</td>\n",
              "      <td>0</td>\n",
              "      <td>0</td>\n",
              "      <td>0</td>\n",
              "      <td>25000</td>\n",
              "      <td>None</td>\n",
              "      <td>0.16</td>\n",
              "      <td>25</td>\n",
              "      <td>511584</td>\n",
              "    </tr>\n",
              "    <tr>\n",
              "      <th>11964</th>\n",
              "      <td>6957</td>\n",
              "      <td>55043</td>\n",
              "      <td>2012</td>\n",
              "      <td>9</td>\n",
              "      <td>4</td>\n",
              "      <td>2012-09-04 18:37:00</td>\n",
              "      <td>55</td>\n",
              "      <td>43</td>\n",
              "      <td>42.9089</td>\n",
              "      <td>-90.995</td>\n",
              "      <td>42.9025</td>\n",
              "      <td>-90.9839</td>\n",
              "      <td>2</td>\n",
              "      <td>0</td>\n",
              "      <td>0</td>\n",
              "      <td>420000</td>\n",
              "      <td>8000</td>\n",
              "      <td>0.72</td>\n",
              "      <td>75</td>\n",
              "      <td>50871</td>\n",
              "    </tr>\n",
              "    <tr>\n",
              "      <th>11965</th>\n",
              "      <td>6958</td>\n",
              "      <td>39025</td>\n",
              "      <td>2012</td>\n",
              "      <td>9</td>\n",
              "      <td>7</td>\n",
              "      <td>2012-09-07 22:36:00</td>\n",
              "      <td>39</td>\n",
              "      <td>25</td>\n",
              "      <td>39.173</td>\n",
              "      <td>-84.144</td>\n",
              "      <td>39.175</td>\n",
              "      <td>-84.141</td>\n",
              "      <td>0</td>\n",
              "      <td>0</td>\n",
              "      <td>0</td>\n",
              "      <td>40000</td>\n",
              "      <td>None</td>\n",
              "      <td>0.21</td>\n",
              "      <td>25</td>\n",
              "      <td>199487</td>\n",
              "    </tr>\n",
              "    <tr>\n",
              "      <th>11966</th>\n",
              "      <td>6959</td>\n",
              "      <td>36081</td>\n",
              "      <td>2012</td>\n",
              "      <td>9</td>\n",
              "      <td>8</td>\n",
              "      <td>2012-09-08 08:58:00</td>\n",
              "      <td>36</td>\n",
              "      <td>81</td>\n",
              "      <td>40.5468</td>\n",
              "      <td>-73.9329</td>\n",
              "      <td>40.6337</td>\n",
              "      <td>-73.894</td>\n",
              "      <td>1</td>\n",
              "      <td>0</td>\n",
              "      <td>0</td>\n",
              "      <td>270000</td>\n",
              "      <td>None</td>\n",
              "      <td>4.74</td>\n",
              "      <td>50</td>\n",
              "      <td>2272222</td>\n",
              "    </tr>\n",
              "    <tr>\n",
              "      <th>11967</th>\n",
              "      <td>6960</td>\n",
              "      <td>6065</td>\n",
              "      <td>2012</td>\n",
              "      <td>9</td>\n",
              "      <td>9</td>\n",
              "      <td>2012-09-09 15:00:00</td>\n",
              "      <td>6</td>\n",
              "      <td>65</td>\n",
              "      <td>33.78</td>\n",
              "      <td>-117.23</td>\n",
              "      <td>33.78</td>\n",
              "      <td>-117.23</td>\n",
              "      <td>0</td>\n",
              "      <td>0</td>\n",
              "      <td>0</td>\n",
              "      <td>None</td>\n",
              "      <td>None</td>\n",
              "      <td>0.01</td>\n",
              "      <td>10</td>\n",
              "      <td>2261204</td>\n",
              "    </tr>\n",
              "  </tbody>\n",
              "</table>\n",
              "<p>11968 rows × 20 columns</p>\n",
              "</div>\n",
              "      <button class=\"colab-df-convert\" onclick=\"convertToInteractive('df-610e0288-021c-40d8-a1e8-fb61db649310')\"\n",
              "              title=\"Convert this dataframe to an interactive table.\"\n",
              "              style=\"display:none;\">\n",
              "        \n",
              "  <svg xmlns=\"http://www.w3.org/2000/svg\" height=\"24px\"viewBox=\"0 0 24 24\"\n",
              "       width=\"24px\">\n",
              "    <path d=\"M0 0h24v24H0V0z\" fill=\"none\"/>\n",
              "    <path d=\"M18.56 5.44l.94 2.06.94-2.06 2.06-.94-2.06-.94-.94-2.06-.94 2.06-2.06.94zm-11 1L8.5 8.5l.94-2.06 2.06-.94-2.06-.94L8.5 2.5l-.94 2.06-2.06.94zm10 10l.94 2.06.94-2.06 2.06-.94-2.06-.94-.94-2.06-.94 2.06-2.06.94z\"/><path d=\"M17.41 7.96l-1.37-1.37c-.4-.4-.92-.59-1.43-.59-.52 0-1.04.2-1.43.59L10.3 9.45l-7.72 7.72c-.78.78-.78 2.05 0 2.83L4 21.41c.39.39.9.59 1.41.59.51 0 1.02-.2 1.41-.59l7.78-7.78 2.81-2.81c.8-.78.8-2.07 0-2.86zM5.41 20L4 18.59l7.72-7.72 1.47 1.35L5.41 20z\"/>\n",
              "  </svg>\n",
              "      </button>\n",
              "      \n",
              "  <style>\n",
              "    .colab-df-container {\n",
              "      display:flex;\n",
              "      flex-wrap:wrap;\n",
              "      gap: 12px;\n",
              "    }\n",
              "\n",
              "    .colab-df-convert {\n",
              "      background-color: #E8F0FE;\n",
              "      border: none;\n",
              "      border-radius: 50%;\n",
              "      cursor: pointer;\n",
              "      display: none;\n",
              "      fill: #1967D2;\n",
              "      height: 32px;\n",
              "      padding: 0 0 0 0;\n",
              "      width: 32px;\n",
              "    }\n",
              "\n",
              "    .colab-df-convert:hover {\n",
              "      background-color: #E2EBFA;\n",
              "      box-shadow: 0px 1px 2px rgba(60, 64, 67, 0.3), 0px 1px 3px 1px rgba(60, 64, 67, 0.15);\n",
              "      fill: #174EA6;\n",
              "    }\n",
              "\n",
              "    [theme=dark] .colab-df-convert {\n",
              "      background-color: #3B4455;\n",
              "      fill: #D2E3FC;\n",
              "    }\n",
              "\n",
              "    [theme=dark] .colab-df-convert:hover {\n",
              "      background-color: #434B5C;\n",
              "      box-shadow: 0px 1px 3px 1px rgba(0, 0, 0, 0.15);\n",
              "      filter: drop-shadow(0px 1px 2px rgba(0, 0, 0, 0.3));\n",
              "      fill: #FFFFFF;\n",
              "    }\n",
              "  </style>\n",
              "\n",
              "      <script>\n",
              "        const buttonEl =\n",
              "          document.querySelector('#df-610e0288-021c-40d8-a1e8-fb61db649310 button.colab-df-convert');\n",
              "        buttonEl.style.display =\n",
              "          google.colab.kernel.accessAllowed ? 'block' : 'none';\n",
              "\n",
              "        async function convertToInteractive(key) {\n",
              "          const element = document.querySelector('#df-610e0288-021c-40d8-a1e8-fb61db649310');\n",
              "          const dataTable =\n",
              "            await google.colab.kernel.invokeFunction('convertToInteractive',\n",
              "                                                     [key], {});\n",
              "          if (!dataTable) return;\n",
              "\n",
              "          const docLinkHtml = 'Like what you see? Visit the ' +\n",
              "            '<a target=\"_blank\" href=https://colab.research.google.com/notebooks/data_table.ipynb>data table notebook</a>'\n",
              "            + ' to learn more about interactive tables.';\n",
              "          element.innerHTML = '';\n",
              "          dataTable['output_type'] = 'display_data';\n",
              "          await google.colab.output.renderOutput(dataTable, element);\n",
              "          const docLink = document.createElement('div');\n",
              "          docLink.innerHTML = docLinkHtml;\n",
              "          element.appendChild(docLink);\n",
              "        }\n",
              "      </script>\n",
              "    </div>\n",
              "  </div>\n",
              "  "
            ]
          },
          "metadata": {},
          "execution_count": 12
        }
      ]
    },
    {
      "cell_type": "code",
      "source": [
        "# Check data types\n",
        "tornado_df.dtypes"
      ],
      "metadata": {
        "colab": {
          "base_uri": "https://localhost:8080/"
        },
        "id": "h8wwp7NKvar7",
        "outputId": "ebb9fe8f-675d-4889-86c1-c14006a3335f"
      },
      "execution_count": 13,
      "outputs": [
        {
          "output_type": "execute_result",
          "data": {
            "text/plain": [
              "torn_id       object\n",
              "county_id     object\n",
              "year          object\n",
              "month         object\n",
              "day           object\n",
              "timestamp     object\n",
              "st_fips       object\n",
              "cnty_fips     object\n",
              "start_lat     object\n",
              "start_lon     object\n",
              "end_lat       object\n",
              "end_lon       object\n",
              "ef            object\n",
              "injuries      object\n",
              "fatalities    object\n",
              "loss          object\n",
              "crop_loss     object\n",
              "length        object\n",
              "width         object\n",
              "cnty_pop      object\n",
              "dtype: object"
            ]
          },
          "metadata": {},
          "execution_count": 13
        }
      ]
    },
    {
      "cell_type": "code",
      "source": [
        "# Convert timestamp to datetime\n",
        "tornado_df['timestamp']= pd.to_datetime(tornado_df['timestamp'])\n",
        "\n",
        "# Convert all strings to numeric\n",
        "cols=[i for i in tornado_df.columns if i not in [\"timestamp\"]]\n",
        "for col in cols:\n",
        "    tornado_df[col]=pd.to_numeric(tornado_df[col])\n",
        "\n",
        "# check dtypes\n",
        "tornado_df.dtypes"
      ],
      "metadata": {
        "colab": {
          "base_uri": "https://localhost:8080/"
        },
        "outputId": "c6a5ea94-e0ba-4716-f678-8ce99a5b2083",
        "id": "VI0WCI8x02BJ"
      },
      "execution_count": 14,
      "outputs": [
        {
          "output_type": "execute_result",
          "data": {
            "text/plain": [
              "torn_id                int64\n",
              "county_id              int64\n",
              "year                   int64\n",
              "month                  int64\n",
              "day                    int64\n",
              "timestamp     datetime64[ns]\n",
              "st_fips                int64\n",
              "cnty_fips              int64\n",
              "start_lat            float64\n",
              "start_lon            float64\n",
              "end_lat              float64\n",
              "end_lon              float64\n",
              "ef                     int64\n",
              "injuries               int64\n",
              "fatalities             int64\n",
              "loss                 float64\n",
              "crop_loss            float64\n",
              "length               float64\n",
              "width                  int64\n",
              "cnty_pop               int64\n",
              "dtype: object"
            ]
          },
          "metadata": {},
          "execution_count": 14
        }
      ]
    },
    {
      "cell_type": "code",
      "execution_count": 15,
      "metadata": {
        "colab": {
          "base_uri": "https://localhost:8080/"
        },
        "id": "bcsWqt9GP_N1",
        "outputId": "bee9d9b7-1dad-4381-fc31-dfbda1e7f75d"
      },
      "outputs": [
        {
          "output_type": "execute_result",
          "data": {
            "text/plain": [
              "Index(['torn_id', 'county_id', 'year', 'month', 'day', 'timestamp', 'st_fips',\n",
              "       'cnty_fips', 'start_lat', 'start_lon', 'end_lat', 'end_lon', 'ef',\n",
              "       'injuries', 'fatalities', 'loss', 'crop_loss', 'length', 'width',\n",
              "       'cnty_pop'],\n",
              "      dtype='object')"
            ]
          },
          "metadata": {},
          "execution_count": 15
        }
      ],
      "source": [
        "tornado_df.columns"
      ]
    },
    {
      "cell_type": "code",
      "execution_count": 16,
      "metadata": {
        "id": "cFOUCmIFXbE8"
      },
      "outputs": [],
      "source": [
        "# drop na columns\n",
        "tornado_df = tornado_df.dropna()"
      ]
    },
    {
      "cell_type": "markdown",
      "metadata": {
        "id": "KHKPqwlJRGJd"
      },
      "source": [
        "### 1. Define input data (X) and output data (y)"
      ]
    },
    {
      "cell_type": "code",
      "execution_count": 17,
      "metadata": {
        "colab": {
          "base_uri": "https://localhost:8080/",
          "height": 424
        },
        "id": "3kgCt2k0RGJd",
        "outputId": "da76daa7-25d9-42e4-cac0-af5b82789285"
      },
      "outputs": [
        {
          "output_type": "execute_result",
          "data": {
            "text/plain": [
              "       ef  injuries  length  width  cnty_pop\n",
              "52      0         0    1.78     50     15179\n",
              "130     1         0    0.97    100     67412\n",
              "165     0         0    1.59    100    281148\n",
              "195     1         0    2.32    150     18244\n",
              "196     2         0    2.98    300     24207\n",
              "...    ..       ...     ...    ...       ...\n",
              "11752   0         0    0.16     75     33601\n",
              "11902   0         0    5.56    100    151482\n",
              "11949   0         0    2.25     75     38837\n",
              "11954   2         0    0.90     75     15710\n",
              "11964   2         0    0.72     75     50871\n",
              "\n",
              "[448 rows x 5 columns]"
            ],
            "text/html": [
              "\n",
              "  <div id=\"df-dccbb954-0527-44fe-8a89-30bda8ce96d0\">\n",
              "    <div class=\"colab-df-container\">\n",
              "      <div>\n",
              "<style scoped>\n",
              "    .dataframe tbody tr th:only-of-type {\n",
              "        vertical-align: middle;\n",
              "    }\n",
              "\n",
              "    .dataframe tbody tr th {\n",
              "        vertical-align: top;\n",
              "    }\n",
              "\n",
              "    .dataframe thead th {\n",
              "        text-align: right;\n",
              "    }\n",
              "</style>\n",
              "<table border=\"1\" class=\"dataframe\">\n",
              "  <thead>\n",
              "    <tr style=\"text-align: right;\">\n",
              "      <th></th>\n",
              "      <th>ef</th>\n",
              "      <th>injuries</th>\n",
              "      <th>length</th>\n",
              "      <th>width</th>\n",
              "      <th>cnty_pop</th>\n",
              "    </tr>\n",
              "  </thead>\n",
              "  <tbody>\n",
              "    <tr>\n",
              "      <th>52</th>\n",
              "      <td>0</td>\n",
              "      <td>0</td>\n",
              "      <td>1.78</td>\n",
              "      <td>50</td>\n",
              "      <td>15179</td>\n",
              "    </tr>\n",
              "    <tr>\n",
              "      <th>130</th>\n",
              "      <td>1</td>\n",
              "      <td>0</td>\n",
              "      <td>0.97</td>\n",
              "      <td>100</td>\n",
              "      <td>67412</td>\n",
              "    </tr>\n",
              "    <tr>\n",
              "      <th>165</th>\n",
              "      <td>0</td>\n",
              "      <td>0</td>\n",
              "      <td>1.59</td>\n",
              "      <td>100</td>\n",
              "      <td>281148</td>\n",
              "    </tr>\n",
              "    <tr>\n",
              "      <th>195</th>\n",
              "      <td>1</td>\n",
              "      <td>0</td>\n",
              "      <td>2.32</td>\n",
              "      <td>150</td>\n",
              "      <td>18244</td>\n",
              "    </tr>\n",
              "    <tr>\n",
              "      <th>196</th>\n",
              "      <td>2</td>\n",
              "      <td>0</td>\n",
              "      <td>2.98</td>\n",
              "      <td>300</td>\n",
              "      <td>24207</td>\n",
              "    </tr>\n",
              "    <tr>\n",
              "      <th>...</th>\n",
              "      <td>...</td>\n",
              "      <td>...</td>\n",
              "      <td>...</td>\n",
              "      <td>...</td>\n",
              "      <td>...</td>\n",
              "    </tr>\n",
              "    <tr>\n",
              "      <th>11752</th>\n",
              "      <td>0</td>\n",
              "      <td>0</td>\n",
              "      <td>0.16</td>\n",
              "      <td>75</td>\n",
              "      <td>33601</td>\n",
              "    </tr>\n",
              "    <tr>\n",
              "      <th>11902</th>\n",
              "      <td>0</td>\n",
              "      <td>0</td>\n",
              "      <td>5.56</td>\n",
              "      <td>100</td>\n",
              "      <td>151482</td>\n",
              "    </tr>\n",
              "    <tr>\n",
              "      <th>11949</th>\n",
              "      <td>0</td>\n",
              "      <td>0</td>\n",
              "      <td>2.25</td>\n",
              "      <td>75</td>\n",
              "      <td>38837</td>\n",
              "    </tr>\n",
              "    <tr>\n",
              "      <th>11954</th>\n",
              "      <td>2</td>\n",
              "      <td>0</td>\n",
              "      <td>0.90</td>\n",
              "      <td>75</td>\n",
              "      <td>15710</td>\n",
              "    </tr>\n",
              "    <tr>\n",
              "      <th>11964</th>\n",
              "      <td>2</td>\n",
              "      <td>0</td>\n",
              "      <td>0.72</td>\n",
              "      <td>75</td>\n",
              "      <td>50871</td>\n",
              "    </tr>\n",
              "  </tbody>\n",
              "</table>\n",
              "<p>448 rows × 5 columns</p>\n",
              "</div>\n",
              "      <button class=\"colab-df-convert\" onclick=\"convertToInteractive('df-dccbb954-0527-44fe-8a89-30bda8ce96d0')\"\n",
              "              title=\"Convert this dataframe to an interactive table.\"\n",
              "              style=\"display:none;\">\n",
              "        \n",
              "  <svg xmlns=\"http://www.w3.org/2000/svg\" height=\"24px\"viewBox=\"0 0 24 24\"\n",
              "       width=\"24px\">\n",
              "    <path d=\"M0 0h24v24H0V0z\" fill=\"none\"/>\n",
              "    <path d=\"M18.56 5.44l.94 2.06.94-2.06 2.06-.94-2.06-.94-.94-2.06-.94 2.06-2.06.94zm-11 1L8.5 8.5l.94-2.06 2.06-.94-2.06-.94L8.5 2.5l-.94 2.06-2.06.94zm10 10l.94 2.06.94-2.06 2.06-.94-2.06-.94-.94-2.06-.94 2.06-2.06.94z\"/><path d=\"M17.41 7.96l-1.37-1.37c-.4-.4-.92-.59-1.43-.59-.52 0-1.04.2-1.43.59L10.3 9.45l-7.72 7.72c-.78.78-.78 2.05 0 2.83L4 21.41c.39.39.9.59 1.41.59.51 0 1.02-.2 1.41-.59l7.78-7.78 2.81-2.81c.8-.78.8-2.07 0-2.86zM5.41 20L4 18.59l7.72-7.72 1.47 1.35L5.41 20z\"/>\n",
              "  </svg>\n",
              "      </button>\n",
              "      \n",
              "  <style>\n",
              "    .colab-df-container {\n",
              "      display:flex;\n",
              "      flex-wrap:wrap;\n",
              "      gap: 12px;\n",
              "    }\n",
              "\n",
              "    .colab-df-convert {\n",
              "      background-color: #E8F0FE;\n",
              "      border: none;\n",
              "      border-radius: 50%;\n",
              "      cursor: pointer;\n",
              "      display: none;\n",
              "      fill: #1967D2;\n",
              "      height: 32px;\n",
              "      padding: 0 0 0 0;\n",
              "      width: 32px;\n",
              "    }\n",
              "\n",
              "    .colab-df-convert:hover {\n",
              "      background-color: #E2EBFA;\n",
              "      box-shadow: 0px 1px 2px rgba(60, 64, 67, 0.3), 0px 1px 3px 1px rgba(60, 64, 67, 0.15);\n",
              "      fill: #174EA6;\n",
              "    }\n",
              "\n",
              "    [theme=dark] .colab-df-convert {\n",
              "      background-color: #3B4455;\n",
              "      fill: #D2E3FC;\n",
              "    }\n",
              "\n",
              "    [theme=dark] .colab-df-convert:hover {\n",
              "      background-color: #434B5C;\n",
              "      box-shadow: 0px 1px 3px 1px rgba(0, 0, 0, 0.15);\n",
              "      filter: drop-shadow(0px 1px 2px rgba(0, 0, 0, 0.3));\n",
              "      fill: #FFFFFF;\n",
              "    }\n",
              "  </style>\n",
              "\n",
              "      <script>\n",
              "        const buttonEl =\n",
              "          document.querySelector('#df-dccbb954-0527-44fe-8a89-30bda8ce96d0 button.colab-df-convert');\n",
              "        buttonEl.style.display =\n",
              "          google.colab.kernel.accessAllowed ? 'block' : 'none';\n",
              "\n",
              "        async function convertToInteractive(key) {\n",
              "          const element = document.querySelector('#df-dccbb954-0527-44fe-8a89-30bda8ce96d0');\n",
              "          const dataTable =\n",
              "            await google.colab.kernel.invokeFunction('convertToInteractive',\n",
              "                                                     [key], {});\n",
              "          if (!dataTable) return;\n",
              "\n",
              "          const docLinkHtml = 'Like what you see? Visit the ' +\n",
              "            '<a target=\"_blank\" href=https://colab.research.google.com/notebooks/data_table.ipynb>data table notebook</a>'\n",
              "            + ' to learn more about interactive tables.';\n",
              "          element.innerHTML = '';\n",
              "          dataTable['output_type'] = 'display_data';\n",
              "          await google.colab.output.renderOutput(dataTable, element);\n",
              "          const docLink = document.createElement('div');\n",
              "          docLink.innerHTML = docLinkHtml;\n",
              "          element.appendChild(docLink);\n",
              "        }\n",
              "      </script>\n",
              "    </div>\n",
              "  </div>\n",
              "  "
            ]
          },
          "metadata": {},
          "execution_count": 17
        }
      ],
      "source": [
        "X = tornado_df.copy()\n",
        "X = X.drop(['torn_id', 'county_id', 'year', 'month', 'day', 'timestamp', 'st_fips', 'cnty_fips', 'start_lat', 'start_lon', 'end_lat', 'end_lon','fatalities', 'loss', 'crop_loss'], axis=1)\n",
        "X"
      ]
    },
    {
      "cell_type": "code",
      "execution_count": 18,
      "metadata": {
        "colab": {
          "base_uri": "https://localhost:8080/"
        },
        "id": "wjptez7HRGJe",
        "outputId": "7fbb7ea2-f848-453b-a018-dcee69ad2687"
      },
      "outputs": [
        {
          "output_type": "execute_result",
          "data": {
            "text/plain": [
              "array([0, 0, 0, 0, 0, 0, 0, 0, 0, 0])"
            ]
          },
          "metadata": {},
          "execution_count": 18
        }
      ],
      "source": [
        "y = tornado_df[\"fatalities\"].ravel()\n",
        "y[:10]"
      ]
    },
    {
      "cell_type": "markdown",
      "metadata": {
        "id": "SIcTXziMRGJf"
      },
      "source": [
        "### 2. Splitting into Train and Test sets"
      ]
    },
    {
      "cell_type": "code",
      "execution_count": 19,
      "metadata": {
        "id": "GSgGSjVBRGJf"
      },
      "outputs": [],
      "source": [
        "X_train, X_test, y_train, y_test = train_test_split(X, y, random_state =78)"
      ]
    },
    {
      "cell_type": "markdown",
      "metadata": {
        "id": "GpNL4RpCRGJf"
      },
      "source": [
        "### 3. Scale the input data (X)"
      ]
    },
    {
      "cell_type": "code",
      "execution_count": 20,
      "metadata": {
        "id": "db7fBktZRGJg"
      },
      "outputs": [],
      "source": [
        "# Creating StandardScaler instance\n",
        "scaler = StandardScaler()\n",
        "# Fitting Standard Scaller\n",
        "X_scaler = scaler.fit(X_train)\n",
        "# Scaling data\n",
        "X_train_scaled = X_scaler.transform(X_train)\n",
        "X_test_scaled = X_scaler.transform(X_test)"
      ]
    },
    {
      "cell_type": "markdown",
      "metadata": {
        "id": "bt-EYJCFB0v1"
      },
      "source": [
        "### 4. Define Deep Learning Model"
      ]
    },
    {
      "cell_type": "code",
      "execution_count": 21,
      "metadata": {
        "colab": {
          "base_uri": "https://localhost:8080/"
        },
        "id": "I16CE5DqP_N7",
        "outputId": "5595e78d-4315-4613-d97f-38c36830738d"
      },
      "outputs": [
        {
          "output_type": "stream",
          "name": "stdout",
          "text": [
            "Model: \"sequential\"\n",
            "_________________________________________________________________\n",
            " Layer (type)                Output Shape              Param #   \n",
            "=================================================================\n",
            " dense (Dense)               (None, 4)                 24        \n",
            "                                                                 \n",
            " dense_1 (Dense)             (None, 2)                 10        \n",
            "                                                                 \n",
            " dense_2 (Dense)             (None, 1)                 3         \n",
            "                                                                 \n",
            "=================================================================\n",
            "Total params: 37\n",
            "Trainable params: 37\n",
            "Non-trainable params: 0\n",
            "_________________________________________________________________\n"
          ]
        }
      ],
      "source": [
        "# Define the model - deep neural net, i.e., the number of input features and hidden nodes for each layer.\n",
        "\n",
        "# Rule of Thumb:\n",
        "#   1. Number of Layers: Start with two hidden layers (this does not include the last layer).\n",
        "#   2. Number of nodes (size) of intermediate layers: a number from the geometric progression of 2, e.g., 4, 8, 16, 32, … . \n",
        "#      The first layer should be around half of the number of input data features. The next layer size as half of the previous.\n",
        "\n",
        "number_input_features = len(X.columns)\n",
        "hidden_nodes_layer1 = 4\n",
        "hidden_nodes_layer2 = 2\n",
        "\n",
        "nn = tf.keras.models.Sequential()\n",
        "\n",
        "# First hidden layer\n",
        "nn.add( tf.keras.layers.Dense(units=hidden_nodes_layer1, input_dim=number_input_features, activation=\"relu\") )\n",
        "\n",
        "# Second hidden layer\n",
        "nn.add( tf.keras.layers.Dense(units=hidden_nodes_layer2, activation=\"relu\") )\n",
        "\n",
        "# Output layer\n",
        "nn.add( tf.keras.layers.Dense(units=1, activation=\"sigmoid\") )\n",
        "\n",
        "# Check the structure of the model\n",
        "nn.summary()"
      ]
    },
    {
      "cell_type": "markdown",
      "metadata": {
        "id": "5E28mbEbCSC7"
      },
      "source": [
        "### 5. Compile & Train the Model"
      ]
    },
    {
      "cell_type": "code",
      "execution_count": 22,
      "metadata": {
        "id": "iO3zZKXlMEFg"
      },
      "outputs": [],
      "source": [
        "# Import checkpoint dependencies\n",
        "import os\n",
        "from tensorflow.keras.callbacks import ModelCheckpoint\n",
        "\n",
        "# Define the checkpoint path and filenames\n",
        "os.makedirs(\"checkpoints/\",exist_ok=True)\n",
        "checkpoint_path = \"checkpoints/weights.{epoch:02d}.hdf5\""
      ]
    },
    {
      "cell_type": "code",
      "execution_count": 23,
      "metadata": {
        "colab": {
          "base_uri": "https://localhost:8080/"
        },
        "id": "ofs817UGP_N7",
        "outputId": "2ffba521-4eaf-459d-8c66-4af5673e1cda"
      },
      "outputs": [
        {
          "output_type": "stream",
          "name": "stderr",
          "text": [
            "WARNING:tensorflow:`period` argument is deprecated. Please use `save_freq` to specify the frequency in number of batches seen.\n"
          ]
        }
      ],
      "source": [
        "# Compile the model\n",
        "nn.compile(loss=\"mean_squared_error\", optimizer=\"adam\", metrics=[\"accuracy\"])\n",
        "\n",
        "# Create a callback that saves the model's weights every epoch\n",
        "cp_callback = ModelCheckpoint(\n",
        "    filepath=checkpoint_path,\n",
        "    verbose=1,\n",
        "    save_weights_only=True,\n",
        "    period = 5)"
      ]
    },
    {
      "cell_type": "code",
      "execution_count": 24,
      "metadata": {
        "colab": {
          "base_uri": "https://localhost:8080/"
        },
        "id": "F92QrW82P_N7",
        "outputId": "3f5d8e40-8d49-4e86-fa83-2e9e175ca343"
      },
      "outputs": [
        {
          "output_type": "stream",
          "name": "stdout",
          "text": [
            "Epoch 1/100\n",
            "8/8 [==============================] - 2s 35ms/step - loss: 0.6232 - accuracy: 0.9644 - val_loss: 3.0720 - val_accuracy: 0.9279\n",
            "Epoch 2/100\n",
            "8/8 [==============================] - 0s 9ms/step - loss: 0.6185 - accuracy: 0.9644 - val_loss: 3.0680 - val_accuracy: 0.9279\n",
            "Epoch 3/100\n",
            "8/8 [==============================] - 0s 7ms/step - loss: 0.6136 - accuracy: 0.9644 - val_loss: 3.0640 - val_accuracy: 0.9279\n",
            "Epoch 4/100\n",
            "8/8 [==============================] - 0s 10ms/step - loss: 0.6086 - accuracy: 0.9644 - val_loss: 3.0602 - val_accuracy: 0.9279\n",
            "Epoch 5/100\n",
            "1/8 [==>...........................] - ETA: 0s - loss: 1.5113 - accuracy: 0.9375\n",
            "Epoch 5: saving model to checkpoints/weights.05.hdf5\n",
            "8/8 [==============================] - 0s 9ms/step - loss: 0.6036 - accuracy: 0.9644 - val_loss: 3.0563 - val_accuracy: 0.9279\n",
            "Epoch 6/100\n",
            "8/8 [==============================] - 0s 8ms/step - loss: 0.5990 - accuracy: 0.9644 - val_loss: 3.0526 - val_accuracy: 0.9279\n",
            "Epoch 7/100\n",
            "8/8 [==============================] - 0s 6ms/step - loss: 0.5943 - accuracy: 0.9644 - val_loss: 3.0487 - val_accuracy: 0.9279\n",
            "Epoch 8/100\n",
            "8/8 [==============================] - 0s 6ms/step - loss: 0.5894 - accuracy: 0.9644 - val_loss: 3.0448 - val_accuracy: 0.9279\n",
            "Epoch 9/100\n",
            "8/8 [==============================] - 0s 6ms/step - loss: 0.5846 - accuracy: 0.9644 - val_loss: 3.0410 - val_accuracy: 0.9279\n",
            "Epoch 10/100\n",
            "1/8 [==>...........................] - ETA: 0s - loss: 1.5028 - accuracy: 0.9688\n",
            "Epoch 10: saving model to checkpoints/weights.10.hdf5\n",
            "8/8 [==============================] - 0s 8ms/step - loss: 0.5799 - accuracy: 0.9644 - val_loss: 3.0372 - val_accuracy: 0.9279\n",
            "Epoch 11/100\n",
            "8/8 [==============================] - 0s 9ms/step - loss: 0.5755 - accuracy: 0.9644 - val_loss: 3.0339 - val_accuracy: 0.9279\n",
            "Epoch 12/100\n",
            "8/8 [==============================] - 0s 5ms/step - loss: 0.5712 - accuracy: 0.9644 - val_loss: 3.0304 - val_accuracy: 0.9279\n",
            "Epoch 13/100\n",
            "8/8 [==============================] - 0s 6ms/step - loss: 0.5669 - accuracy: 0.9644 - val_loss: 3.0273 - val_accuracy: 0.9279\n",
            "Epoch 14/100\n",
            "8/8 [==============================] - 0s 9ms/step - loss: 0.5631 - accuracy: 0.9644 - val_loss: 3.0243 - val_accuracy: 0.9279\n",
            "Epoch 15/100\n",
            "1/8 [==>...........................] - ETA: 0s - loss: 0.3384 - accuracy: 0.9688\n",
            "Epoch 15: saving model to checkpoints/weights.15.hdf5\n",
            "8/8 [==============================] - 0s 7ms/step - loss: 0.5594 - accuracy: 0.9644 - val_loss: 3.0214 - val_accuracy: 0.9279\n",
            "Epoch 16/100\n",
            "8/8 [==============================] - 0s 6ms/step - loss: 0.5555 - accuracy: 0.9644 - val_loss: 3.0184 - val_accuracy: 0.9279\n",
            "Epoch 17/100\n",
            "8/8 [==============================] - 0s 34ms/step - loss: 0.5517 - accuracy: 0.9644 - val_loss: 3.0154 - val_accuracy: 0.9279\n",
            "Epoch 18/100\n",
            "8/8 [==============================] - 0s 7ms/step - loss: 0.5480 - accuracy: 0.9644 - val_loss: 3.0124 - val_accuracy: 0.9279\n",
            "Epoch 19/100\n",
            "8/8 [==============================] - 0s 6ms/step - loss: 0.5444 - accuracy: 0.9644 - val_loss: 3.0096 - val_accuracy: 0.9279\n",
            "Epoch 20/100\n",
            "1/8 [==>...........................] - ETA: 0s - loss: 1.4874 - accuracy: 0.9062\n",
            "Epoch 20: saving model to checkpoints/weights.20.hdf5\n",
            "8/8 [==============================] - 0s 8ms/step - loss: 0.5409 - accuracy: 0.9644 - val_loss: 3.0069 - val_accuracy: 0.9279\n",
            "Epoch 21/100\n",
            "8/8 [==============================] - 0s 7ms/step - loss: 0.5376 - accuracy: 0.9644 - val_loss: 3.0044 - val_accuracy: 0.9279\n",
            "Epoch 22/100\n",
            "8/8 [==============================] - 0s 7ms/step - loss: 0.5345 - accuracy: 0.9644 - val_loss: 3.0021 - val_accuracy: 0.9279\n",
            "Epoch 23/100\n",
            "8/8 [==============================] - 0s 7ms/step - loss: 0.5314 - accuracy: 0.9644 - val_loss: 2.9996 - val_accuracy: 0.9279\n",
            "Epoch 24/100\n",
            "8/8 [==============================] - 0s 9ms/step - loss: 0.5284 - accuracy: 0.9644 - val_loss: 2.9971 - val_accuracy: 0.9279\n",
            "Epoch 25/100\n",
            "1/8 [==>...........................] - ETA: 0s - loss: 0.1270 - accuracy: 0.9688\n",
            "Epoch 25: saving model to checkpoints/weights.25.hdf5\n",
            "8/8 [==============================] - 0s 9ms/step - loss: 0.5253 - accuracy: 0.9644 - val_loss: 2.9946 - val_accuracy: 0.9279\n",
            "Epoch 26/100\n",
            "8/8 [==============================] - 0s 7ms/step - loss: 0.5222 - accuracy: 0.9644 - val_loss: 2.9921 - val_accuracy: 0.9279\n",
            "Epoch 27/100\n",
            "8/8 [==============================] - 0s 9ms/step - loss: 0.5192 - accuracy: 0.9644 - val_loss: 2.9899 - val_accuracy: 0.9279\n",
            "Epoch 28/100\n",
            "8/8 [==============================] - 0s 8ms/step - loss: 0.5164 - accuracy: 0.9644 - val_loss: 2.9877 - val_accuracy: 0.9279\n",
            "Epoch 29/100\n",
            "8/8 [==============================] - 0s 8ms/step - loss: 0.5137 - accuracy: 0.9644 - val_loss: 2.9856 - val_accuracy: 0.9279\n",
            "Epoch 30/100\n",
            "1/8 [==>...........................] - ETA: 0s - loss: 0.1036 - accuracy: 0.9375\n",
            "Epoch 30: saving model to checkpoints/weights.30.hdf5\n",
            "8/8 [==============================] - 0s 9ms/step - loss: 0.5111 - accuracy: 0.9644 - val_loss: 2.9834 - val_accuracy: 0.9279\n",
            "Epoch 31/100\n",
            "8/8 [==============================] - 0s 7ms/step - loss: 0.5085 - accuracy: 0.9644 - val_loss: 2.9812 - val_accuracy: 0.9279\n",
            "Epoch 32/100\n",
            "8/8 [==============================] - 0s 9ms/step - loss: 0.5057 - accuracy: 0.9644 - val_loss: 2.9790 - val_accuracy: 0.9279\n",
            "Epoch 33/100\n",
            "8/8 [==============================] - 0s 10ms/step - loss: 0.5032 - accuracy: 0.9644 - val_loss: 2.9772 - val_accuracy: 0.9279\n",
            "Epoch 34/100\n",
            "8/8 [==============================] - 0s 9ms/step - loss: 0.5009 - accuracy: 0.9644 - val_loss: 2.9757 - val_accuracy: 0.9279\n",
            "Epoch 35/100\n",
            "1/8 [==>...........................] - ETA: 0s - loss: 0.1069 - accuracy: 1.0000\n",
            "Epoch 35: saving model to checkpoints/weights.35.hdf5\n",
            "8/8 [==============================] - 0s 11ms/step - loss: 0.4988 - accuracy: 0.9644 - val_loss: 2.9740 - val_accuracy: 0.9279\n",
            "Epoch 36/100\n",
            "8/8 [==============================] - 0s 10ms/step - loss: 0.4964 - accuracy: 0.9644 - val_loss: 2.9723 - val_accuracy: 0.9279\n",
            "Epoch 37/100\n",
            "8/8 [==============================] - 0s 7ms/step - loss: 0.4942 - accuracy: 0.9644 - val_loss: 2.9705 - val_accuracy: 0.9279\n",
            "Epoch 38/100\n",
            "8/8 [==============================] - 0s 7ms/step - loss: 0.4921 - accuracy: 0.9644 - val_loss: 2.9687 - val_accuracy: 0.9279\n",
            "Epoch 39/100\n",
            "8/8 [==============================] - 0s 7ms/step - loss: 0.4901 - accuracy: 0.9644 - val_loss: 2.9669 - val_accuracy: 0.9279\n",
            "Epoch 40/100\n",
            "1/8 [==>...........................] - ETA: 0s - loss: 1.4108 - accuracy: 0.9688\n",
            "Epoch 40: saving model to checkpoints/weights.40.hdf5\n",
            "8/8 [==============================] - 0s 11ms/step - loss: 0.4880 - accuracy: 0.9644 - val_loss: 2.9652 - val_accuracy: 0.9279\n",
            "Epoch 41/100\n",
            "8/8 [==============================] - 0s 10ms/step - loss: 0.4860 - accuracy: 0.9644 - val_loss: 2.9638 - val_accuracy: 0.9279\n",
            "Epoch 42/100\n",
            "8/8 [==============================] - 0s 7ms/step - loss: 0.4840 - accuracy: 0.9644 - val_loss: 2.9624 - val_accuracy: 0.9279\n",
            "Epoch 43/100\n",
            "8/8 [==============================] - 0s 9ms/step - loss: 0.4821 - accuracy: 0.9644 - val_loss: 2.9612 - val_accuracy: 0.9279\n",
            "Epoch 44/100\n",
            "8/8 [==============================] - 0s 9ms/step - loss: 0.4805 - accuracy: 0.9644 - val_loss: 2.9601 - val_accuracy: 0.9279\n",
            "Epoch 45/100\n",
            "1/8 [==>...........................] - ETA: 0s - loss: 0.0621 - accuracy: 0.9688\n",
            "Epoch 45: saving model to checkpoints/weights.45.hdf5\n",
            "8/8 [==============================] - 0s 11ms/step - loss: 0.4787 - accuracy: 0.9644 - val_loss: 2.9592 - val_accuracy: 0.9279\n",
            "Epoch 46/100\n",
            "8/8 [==============================] - 0s 9ms/step - loss: 0.4770 - accuracy: 0.9644 - val_loss: 2.9581 - val_accuracy: 0.9279\n",
            "Epoch 47/100\n",
            "8/8 [==============================] - 0s 9ms/step - loss: 0.4754 - accuracy: 0.9644 - val_loss: 2.9571 - val_accuracy: 0.9279\n",
            "Epoch 48/100\n",
            "8/8 [==============================] - 0s 7ms/step - loss: 0.4740 - accuracy: 0.9644 - val_loss: 2.9562 - val_accuracy: 0.9279\n",
            "Epoch 49/100\n",
            "8/8 [==============================] - 0s 7ms/step - loss: 0.4730 - accuracy: 0.9644 - val_loss: 2.9556 - val_accuracy: 0.9279\n",
            "Epoch 50/100\n",
            "1/8 [==>...........................] - ETA: 0s - loss: 0.0519 - accuracy: 1.0000\n",
            "Epoch 50: saving model to checkpoints/weights.50.hdf5\n",
            "8/8 [==============================] - 0s 10ms/step - loss: 0.4722 - accuracy: 0.9644 - val_loss: 2.9551 - val_accuracy: 0.9279\n",
            "Epoch 51/100\n",
            "8/8 [==============================] - 0s 7ms/step - loss: 0.4714 - accuracy: 0.9644 - val_loss: 2.9545 - val_accuracy: 0.9279\n",
            "Epoch 52/100\n",
            "8/8 [==============================] - 0s 7ms/step - loss: 0.4704 - accuracy: 0.9644 - val_loss: 2.9538 - val_accuracy: 0.9279\n",
            "Epoch 53/100\n",
            "8/8 [==============================] - 0s 9ms/step - loss: 0.4694 - accuracy: 0.9644 - val_loss: 2.9531 - val_accuracy: 0.9279\n",
            "Epoch 54/100\n",
            "8/8 [==============================] - 0s 7ms/step - loss: 0.4685 - accuracy: 0.9644 - val_loss: 2.9524 - val_accuracy: 0.9279\n",
            "Epoch 55/100\n",
            "1/8 [==>...........................] - ETA: 0s - loss: 0.0614 - accuracy: 0.9688\n",
            "Epoch 55: saving model to checkpoints/weights.55.hdf5\n",
            "8/8 [==============================] - 0s 11ms/step - loss: 0.4676 - accuracy: 0.9644 - val_loss: 2.9517 - val_accuracy: 0.9279\n",
            "Epoch 56/100\n",
            "8/8 [==============================] - 0s 7ms/step - loss: 0.4666 - accuracy: 0.9644 - val_loss: 2.9509 - val_accuracy: 0.9279\n",
            "Epoch 57/100\n",
            "8/8 [==============================] - 0s 7ms/step - loss: 0.4657 - accuracy: 0.9644 - val_loss: 2.9503 - val_accuracy: 0.9279\n",
            "Epoch 58/100\n",
            "8/8 [==============================] - 0s 8ms/step - loss: 0.4648 - accuracy: 0.9644 - val_loss: 2.9496 - val_accuracy: 0.9279\n",
            "Epoch 59/100\n",
            "8/8 [==============================] - 0s 6ms/step - loss: 0.4639 - accuracy: 0.9644 - val_loss: 2.9490 - val_accuracy: 0.9279\n",
            "Epoch 60/100\n",
            "1/8 [==>...........................] - ETA: 0s - loss: 0.0537 - accuracy: 0.9688\n",
            "Epoch 60: saving model to checkpoints/weights.60.hdf5\n",
            "8/8 [==============================] - 0s 9ms/step - loss: 0.4631 - accuracy: 0.9644 - val_loss: 2.9484 - val_accuracy: 0.9279\n",
            "Epoch 61/100\n",
            "8/8 [==============================] - 0s 7ms/step - loss: 0.4624 - accuracy: 0.9644 - val_loss: 2.9479 - val_accuracy: 0.9279\n",
            "Epoch 62/100\n",
            "8/8 [==============================] - 0s 9ms/step - loss: 0.4616 - accuracy: 0.9644 - val_loss: 2.9474 - val_accuracy: 0.9279\n",
            "Epoch 63/100\n",
            "8/8 [==============================] - 0s 8ms/step - loss: 0.4610 - accuracy: 0.9644 - val_loss: 2.9469 - val_accuracy: 0.9279\n",
            "Epoch 64/100\n",
            "8/8 [==============================] - 0s 6ms/step - loss: 0.4606 - accuracy: 0.9644 - val_loss: 2.9467 - val_accuracy: 0.9279\n",
            "Epoch 65/100\n",
            "1/8 [==>...........................] - ETA: 0s - loss: 0.2461 - accuracy: 0.9688\n",
            "Epoch 65: saving model to checkpoints/weights.65.hdf5\n",
            "8/8 [==============================] - 0s 10ms/step - loss: 0.4603 - accuracy: 0.9644 - val_loss: 2.9464 - val_accuracy: 0.9279\n",
            "Epoch 66/100\n",
            "8/8 [==============================] - 0s 6ms/step - loss: 0.4598 - accuracy: 0.9644 - val_loss: 2.9460 - val_accuracy: 0.9279\n",
            "Epoch 67/100\n",
            "8/8 [==============================] - 0s 6ms/step - loss: 0.4592 - accuracy: 0.9644 - val_loss: 2.9457 - val_accuracy: 0.9279\n",
            "Epoch 68/100\n",
            "8/8 [==============================] - 0s 7ms/step - loss: 0.4588 - accuracy: 0.9644 - val_loss: 2.9453 - val_accuracy: 0.9279\n",
            "Epoch 69/100\n",
            "8/8 [==============================] - 0s 8ms/step - loss: 0.4583 - accuracy: 0.9644 - val_loss: 2.9450 - val_accuracy: 0.9279\n",
            "Epoch 70/100\n",
            "1/8 [==>...........................] - ETA: 0s - loss: 0.0359 - accuracy: 1.0000\n",
            "Epoch 70: saving model to checkpoints/weights.70.hdf5\n",
            "8/8 [==============================] - 0s 11ms/step - loss: 0.4578 - accuracy: 0.9644 - val_loss: 2.9447 - val_accuracy: 0.9279\n",
            "Epoch 71/100\n",
            "8/8 [==============================] - 0s 6ms/step - loss: 0.4573 - accuracy: 0.9644 - val_loss: 2.9444 - val_accuracy: 0.9279\n",
            "Epoch 72/100\n",
            "8/8 [==============================] - 0s 7ms/step - loss: 0.4569 - accuracy: 0.9644 - val_loss: 2.9442 - val_accuracy: 0.9279\n",
            "Epoch 73/100\n",
            "8/8 [==============================] - 0s 9ms/step - loss: 0.4563 - accuracy: 0.9644 - val_loss: 2.9440 - val_accuracy: 0.9279\n",
            "Epoch 74/100\n",
            "8/8 [==============================] - 0s 9ms/step - loss: 0.4559 - accuracy: 0.9644 - val_loss: 2.9439 - val_accuracy: 0.9279\n",
            "Epoch 75/100\n",
            "1/8 [==>...........................] - ETA: 0s - loss: 0.0312 - accuracy: 1.0000\n",
            "Epoch 75: saving model to checkpoints/weights.75.hdf5\n",
            "8/8 [==============================] - 0s 8ms/step - loss: 0.4554 - accuracy: 0.9644 - val_loss: 2.9437 - val_accuracy: 0.9279\n",
            "Epoch 76/100\n",
            "8/8 [==============================] - 0s 7ms/step - loss: 0.4549 - accuracy: 0.9644 - val_loss: 2.9432 - val_accuracy: 0.9279\n",
            "Epoch 77/100\n",
            "8/8 [==============================] - 0s 10ms/step - loss: 0.4545 - accuracy: 0.9644 - val_loss: 2.9419 - val_accuracy: 0.9279\n",
            "Epoch 78/100\n",
            "8/8 [==============================] - 0s 10ms/step - loss: 0.4541 - accuracy: 0.9644 - val_loss: 2.9411 - val_accuracy: 0.9279\n",
            "Epoch 79/100\n",
            "8/8 [==============================] - 0s 7ms/step - loss: 0.4537 - accuracy: 0.9644 - val_loss: 2.9403 - val_accuracy: 0.9279\n",
            "Epoch 80/100\n",
            "1/8 [==>...........................] - ETA: 0s - loss: 0.0463 - accuracy: 0.9688\n",
            "Epoch 80: saving model to checkpoints/weights.80.hdf5\n",
            "8/8 [==============================] - 0s 9ms/step - loss: 0.4533 - accuracy: 0.9644 - val_loss: 2.9398 - val_accuracy: 0.9279\n",
            "Epoch 81/100\n",
            "8/8 [==============================] - 0s 10ms/step - loss: 0.4529 - accuracy: 0.9644 - val_loss: 2.9395 - val_accuracy: 0.9279\n",
            "Epoch 82/100\n",
            "8/8 [==============================] - 0s 10ms/step - loss: 0.4525 - accuracy: 0.9644 - val_loss: 2.9393 - val_accuracy: 0.9279\n",
            "Epoch 83/100\n",
            "8/8 [==============================] - 0s 7ms/step - loss: 0.4521 - accuracy: 0.9644 - val_loss: 2.9389 - val_accuracy: 0.9279\n",
            "Epoch 84/100\n",
            "8/8 [==============================] - 0s 10ms/step - loss: 0.4516 - accuracy: 0.9644 - val_loss: 2.9386 - val_accuracy: 0.9279\n",
            "Epoch 85/100\n",
            "1/8 [==>...........................] - ETA: 0s - loss: 0.0677 - accuracy: 0.9375\n",
            "Epoch 85: saving model to checkpoints/weights.85.hdf5\n",
            "8/8 [==============================] - 0s 9ms/step - loss: 0.4512 - accuracy: 0.9644 - val_loss: 2.9384 - val_accuracy: 0.9279\n",
            "Epoch 86/100\n",
            "8/8 [==============================] - 0s 9ms/step - loss: 0.4507 - accuracy: 0.9644 - val_loss: 2.9382 - val_accuracy: 0.9279\n",
            "Epoch 87/100\n",
            "8/8 [==============================] - 0s 7ms/step - loss: 0.4503 - accuracy: 0.9644 - val_loss: 2.9381 - val_accuracy: 0.9279\n",
            "Epoch 88/100\n",
            "8/8 [==============================] - 0s 9ms/step - loss: 0.4499 - accuracy: 0.9644 - val_loss: 2.9379 - val_accuracy: 0.9279\n",
            "Epoch 89/100\n",
            "8/8 [==============================] - 0s 9ms/step - loss: 0.4494 - accuracy: 0.9644 - val_loss: 2.9376 - val_accuracy: 0.9279\n",
            "Epoch 90/100\n",
            "1/8 [==>...........................] - ETA: 0s - loss: 0.0469 - accuracy: 0.9688\n",
            "Epoch 90: saving model to checkpoints/weights.90.hdf5\n",
            "8/8 [==============================] - 0s 10ms/step - loss: 0.4490 - accuracy: 0.9644 - val_loss: 2.9374 - val_accuracy: 0.9279\n",
            "Epoch 91/100\n",
            "8/8 [==============================] - 0s 8ms/step - loss: 0.4485 - accuracy: 0.9644 - val_loss: 2.9371 - val_accuracy: 0.9279\n",
            "Epoch 92/100\n",
            "8/8 [==============================] - 0s 7ms/step - loss: 0.4479 - accuracy: 0.9644 - val_loss: 2.9368 - val_accuracy: 0.9279\n",
            "Epoch 93/100\n",
            "8/8 [==============================] - 0s 9ms/step - loss: 0.4473 - accuracy: 0.9644 - val_loss: 2.9362 - val_accuracy: 0.9279\n",
            "Epoch 94/100\n",
            "8/8 [==============================] - 0s 8ms/step - loss: 0.4467 - accuracy: 0.9644 - val_loss: 2.9357 - val_accuracy: 0.9279\n",
            "Epoch 95/100\n",
            "1/8 [==>...........................] - ETA: 0s - loss: 1.3835 - accuracy: 0.9375\n",
            "Epoch 95: saving model to checkpoints/weights.95.hdf5\n",
            "8/8 [==============================] - 0s 9ms/step - loss: 0.4461 - accuracy: 0.9644 - val_loss: 2.9353 - val_accuracy: 0.9279\n",
            "Epoch 96/100\n",
            "8/8 [==============================] - 0s 9ms/step - loss: 0.4456 - accuracy: 0.9644 - val_loss: 2.9350 - val_accuracy: 0.9279\n",
            "Epoch 97/100\n",
            "8/8 [==============================] - 0s 9ms/step - loss: 0.4452 - accuracy: 0.9644 - val_loss: 2.9348 - val_accuracy: 0.9279\n",
            "Epoch 98/100\n",
            "8/8 [==============================] - 0s 7ms/step - loss: 0.4447 - accuracy: 0.9644 - val_loss: 2.9347 - val_accuracy: 0.9279\n",
            "Epoch 99/100\n",
            "8/8 [==============================] - 0s 7ms/step - loss: 0.4447 - accuracy: 0.9644 - val_loss: 2.9344 - val_accuracy: 0.9279\n",
            "Epoch 100/100\n",
            "1/8 [==>...........................] - ETA: 0s - loss: 0.0170 - accuracy: 1.0000\n",
            "Epoch 100: saving model to checkpoints/weights.100.hdf5\n",
            "8/8 [==============================] - 0s 10ms/step - loss: 0.4441 - accuracy: 0.9644 - val_loss: 2.9341 - val_accuracy: 0.9279\n"
          ]
        }
      ],
      "source": [
        "# Train the model\n",
        "fit_model = nn.fit(X_train_scaled,y_train,validation_split=0.33, epochs=100,callbacks=[cp_callback])"
      ]
    },
    {
      "cell_type": "markdown",
      "metadata": {
        "id": "41Wd-G_jzByU"
      },
      "source": [
        "### 6. Save the Model"
      ]
    },
    {
      "cell_type": "code",
      "execution_count": 25,
      "metadata": {
        "id": "k-x_AfVUzBRC"
      },
      "outputs": [],
      "source": [
        "nn.save(\"NN_predictFatalities.h5\")"
      ]
    },
    {
      "cell_type": "markdown",
      "source": [
        "### 7. Plot Model Performance"
      ],
      "metadata": {
        "id": "l-MOOLLn2KXj"
      }
    },
    {
      "cell_type": "code",
      "source": [
        "print(fit_model.history.keys())"
      ],
      "metadata": {
        "colab": {
          "base_uri": "https://localhost:8080/"
        },
        "id": "iHmVbweR2Jyf",
        "outputId": "0dba0ec7-f4ab-4410-fe37-69b141e910d3"
      },
      "execution_count": 26,
      "outputs": [
        {
          "output_type": "stream",
          "name": "stdout",
          "text": [
            "dict_keys(['loss', 'accuracy', 'val_loss', 'val_accuracy'])\n"
          ]
        }
      ]
    },
    {
      "cell_type": "code",
      "source": [
        "# summarize history for accuracy\n",
        "plt.plot(fit_model.history['accuracy'])\n",
        "plt.plot(fit_model.history['val_accuracy'])\n",
        "plt.title('model accuracy')\n",
        "plt.ylabel('accuracy')\n",
        "plt.xlabel('epoch')\n",
        "plt.legend(['train', 'test'], loc='upper left')\n",
        "plt.show()\n"
      ],
      "metadata": {
        "colab": {
          "base_uri": "https://localhost:8080/",
          "height": 295
        },
        "id": "uvyxHBYK2rrG",
        "outputId": "c3ed81b9-311b-432f-fc85-96066829aa7f"
      },
      "execution_count": 27,
      "outputs": [
        {
          "output_type": "display_data",
          "data": {
            "text/plain": [
              "<Figure size 432x288 with 1 Axes>"
            ],
            "image/png": "[encoded data removed]"
          },
          "metadata": {
            "needs_background": "light"
          }
        }
      ]
    },
    {
      "cell_type": "code",
      "source": [
        "# summarize history for loss\n",
        "plt.plot(fit_model.history['loss'])\n",
        "plt.plot(fit_model.history['val_loss'])\n",
        "plt.title('model loss')\n",
        "plt.ylabel('loss')\n",
        "plt.xlabel('epoch')\n",
        "plt.legend(['train', 'test'], loc='upper left')\n",
        "plt.show()"
      ],
      "metadata": {
        "colab": {
          "base_uri": "https://localhost:8080/",
          "height": 295
        },
        "id": "GiTyNbgH3G6w",
        "outputId": "bc75f4d7-e90f-4deb-fd38-13d9772bbda4"
      },
      "execution_count": 28,
      "outputs": [
        {
          "output_type": "display_data",
          "data": {
            "text/plain": [
              "<Figure size 432x288 with 1 Axes>"
            ],
            "image/png": "[encoded data removed]"
          },
          "metadata": {
            "needs_background": "light"
          }
        }
      ]
    },
    {
      "cell_type": "code",
      "source": [
        "# Visualize the Neural Network\n",
        "from ann_visualizer.visualize import ann_viz\n",
        "ann_viz(nn,view=True, filename=\"NN_predictFatalities\", title= \"Fatalities Neural Network\")"
      ],
      "metadata": {
        "id": "RN958zV85uvn"
      },
      "execution_count": 29,
      "outputs": []
    },
    {
      "cell_type": "markdown",
      "metadata": {
        "id": "tRmATN16wFh9"
      },
      "source": [
        "### 6. Model Accuracy"
      ]
    },
    {
      "cell_type": "code",
      "execution_count": 30,
      "metadata": {
        "colab": {
          "base_uri": "https://localhost:8080/"
        },
        "id": "-kDhF6WiP_N7",
        "outputId": "20411abd-3fc0-453e-fc5f-142e32b51195"
      },
      "outputs": [
        {
          "output_type": "stream",
          "name": "stdout",
          "text": [
            "4/4 - 0s - loss: 0.9818 - accuracy: 0.9643 - 26ms/epoch - 6ms/step\n",
            "Loss: 0.9818280339241028, Accuracy: 0.9642857313156128\n"
          ]
        }
      ],
      "source": [
        "# Evaluate the model using the test data\n",
        "model_loss, model_accuracy = nn.evaluate(X_test_scaled,y_test,verbose=2)\n",
        "print(f\"Loss: {model_loss}, Accuracy: {model_accuracy}\")"
      ]
    }
  ],
  "metadata": {
    "colab": {
      "collapsed_sections": [],
      "name": "NeuralNetwork_predictFatalitiesPop.ipynb",
      "provenance": []
    },
    "kernelspec": {
      "display_name": "PythonData",
      "language": "python",
      "name": "pythondata"
    },
    "language_info": {
      "codemirror_mode": {
        "name": "ipython",
        "version": 3
      },
      "file_extension": ".py",
      "mimetype": "text/x-python",
      "name": "python",
      "nbconvert_exporter": "python",
      "pygments_lexer": "ipython3",
      "version": "3.9.7"
    }
  },
  "nbformat": 4,
  "nbformat_minor": 0
}