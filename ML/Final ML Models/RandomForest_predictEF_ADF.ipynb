{
  "cells": [
    {
      "cell_type": "code",
      "execution_count": 1,
      "id": "5041fc74",
      "metadata": {
        "id": "5041fc74"
      },
      "outputs": [],
      "source": [
        "# Import dependencies\n",
        "import pandas as pd\n",
        "import numpy as np\n",
        "import matplotlib.pyplot as plt"
      ]
    },
    {
      "cell_type": "code",
      "execution_count": 2,
      "id": "a886bec6",
      "metadata": {
        "id": "a886bec6"
      },
      "outputs": [],
      "source": [
        "# # Loading data\n",
        "# file_path = Path(\"Cleaned_Data/2008-2020_tornadoes_EF_cleaned.csv\")\n",
        "# tornado_df = pd.read_csv(file_path)\n",
        "# tornado_df"
      ]
    },
    {
      "cell_type": "code",
      "source": [
        "# Apache Spark Set Up\n",
        "\n",
        "import os\n",
        "# Find the latest version of spark 3.0 from http://www.apache.org/dist/spark/ and enter as the spark version\n",
        "# For example:\n",
        "# spark_version = 'spark-3.0.3'\n",
        "spark_version = 'spark-3.3.0'\n",
        "os.environ['SPARK_VERSION']=spark_version\n",
        "\n",
        "# Install Spark and Java\n",
        "!apt-get update\n",
        "!apt-get install openjdk-11-jdk-headless -qq > /dev/null\n",
        "!wget -q http://www.apache.org/dist/spark/$SPARK_VERSION/$SPARK_VERSION-bin-hadoop3.tgz\n",
        "!tar xf $SPARK_VERSION-bin-hadoop3.tgz\n",
        "!pip install -q findspark\n",
        "\n",
        "# Set Environment Variables\n",
        "import os\n",
        "os.environ[\"JAVA_HOME\"] = \"/usr/lib/jvm/java-11-openjdk-amd64\"\n",
        "os.environ[\"SPARK_HOME\"] = f\"/content/{spark_version}-bin-hadoop3\"\n",
        "\n",
        "# Start a SparkSession\n",
        "import findspark\n",
        "findspark.init()"
      ],
      "metadata": {
        "colab": {
          "base_uri": "https://localhost:8080/"
        },
        "id": "a6Ya_AtotJcC",
        "outputId": "3931de49-7cc9-4ef9-d527-e7865a55ed89"
      },
      "execution_count": 3,
      "outputs": [
        {
          "output_type": "stream",
          "name": "stdout",
          "text": [
            "Get:1 https://cloud.r-project.org/bin/linux/ubuntu bionic-cran40/ InRelease [3,626 B]\n",
            "Get:2 http://security.ubuntu.com/ubuntu bionic-security InRelease [88.7 kB]\n",
            "Hit:3 http://archive.ubuntu.com/ubuntu bionic InRelease\n",
            "Get:4 http://ppa.launchpad.net/c2d4u.team/c2d4u4.0+/ubuntu bionic InRelease [15.9 kB]\n",
            "Get:5 https://cloud.r-project.org/bin/linux/ubuntu bionic-cran40/ Packages [91.1 kB]\n",
            "Get:6 http://archive.ubuntu.com/ubuntu bionic-updates InRelease [88.7 kB]\n",
            "Ign:7 https://developer.download.nvidia.com/compute/machine-learning/repos/ubuntu1804/x86_64  InRelease\n",
            "Get:8 https://developer.download.nvidia.com/compute/cuda/repos/ubuntu1804/x86_64  InRelease [1,581 B]\n",
            "Hit:9 https://developer.download.nvidia.com/compute/machine-learning/repos/ubuntu1804/x86_64  Release\n",
            "Hit:10 http://ppa.launchpad.net/cran/libgit2/ubuntu bionic InRelease\n",
            "Get:11 https://developer.download.nvidia.com/compute/cuda/repos/ubuntu1804/x86_64  Packages [912 kB]\n",
            "Get:13 http://archive.ubuntu.com/ubuntu bionic-backports InRelease [74.6 kB]\n",
            "Hit:14 http://ppa.launchpad.net/deadsnakes/ppa/ubuntu bionic InRelease\n",
            "Get:15 http://security.ubuntu.com/ubuntu bionic-security/universe amd64 Packages [1,534 kB]\n",
            "Hit:16 http://ppa.launchpad.net/graphics-drivers/ppa/ubuntu bionic InRelease\n",
            "Get:17 http://archive.ubuntu.com/ubuntu bionic-updates/universe amd64 Packages [2,311 kB]\n",
            "Get:18 http://ppa.launchpad.net/c2d4u.team/c2d4u4.0+/ubuntu bionic/main Sources [2,093 kB]\n",
            "Get:19 http://security.ubuntu.com/ubuntu bionic-security/main amd64 Packages [2,938 kB]\n",
            "Get:20 http://archive.ubuntu.com/ubuntu bionic-updates/main amd64 Packages [3,369 kB]\n",
            "Get:21 http://ppa.launchpad.net/c2d4u.team/c2d4u4.0+/ubuntu bionic/main amd64 Packages [1,073 kB]\n",
            "Fetched 14.6 MB in 6s (2,356 kB/s)\n",
            "Reading package lists... Done\n"
          ]
        }
      ],
      "id": "a6Ya_AtotJcC"
    },
    {
      "cell_type": "code",
      "source": [
        "# Start Spark session\n",
        "from pyspark.sql import SparkSession\n",
        "spark = SparkSession.builder.appName(\"Tornadoes\").getOrCreate()"
      ],
      "metadata": {
        "id": "naAMDn7GtMy7"
      },
      "execution_count": 4,
      "outputs": [],
      "id": "naAMDn7GtMy7"
    },
    {
      "cell_type": "code",
      "source": [
        "# Read in data from S3 Buckets\n",
        "from pyspark import SparkFiles\n",
        "url =\"https://group-2-project-tornadoes.s3.amazonaws.com/2008-2020_tornadoes_EF_cleaned_db.csv\"\n",
        "spark.sparkContext.addFile(url)\n",
        "tornado = spark.read.csv(SparkFiles.get(\"2008-2020_tornadoes_EF_cleaned_db.csv\"), sep=\",\", header=True)\n",
        "\n",
        "# Show DataFrame\n",
        "tornado.show()"
      ],
      "metadata": {
        "colab": {
          "base_uri": "https://localhost:8080/"
        },
        "id": "w2a8HZcetTL4",
        "outputId": "28770f25-a76f-41a0-e072-9aa8b0f6f9be"
      },
      "execution_count": 5,
      "outputs": [
        {
          "output_type": "stream",
          "name": "stdout",
          "text": [
            "+-------+---------+----+-----+---+----------------+-------+---------+---------+---------+-------+-------+---+--------+----------+-------+---------+------+-----+\n",
            "|Torn_ID|County_ID|Year|Month|Day|       Timestamp|ST_FIPS|CNTY_FIPS|Start_Lat|Start_Lon|End_Lat|End_Lon| EF|Injuries|Fatalities|   Loss|Crop_Loss|Length|Width|\n",
            "+-------+---------+----+-----+---+----------------+-------+---------+---------+---------+-------+-------+---+--------+----------+-------+---------+------+-----+\n",
            "|      1|    35049|2008|   10| 11|10/11/2008 18:33|     35|       49|    35.15|  -105.94|      0|      0|  0|       0|         0|  12000|     null|  0.02|   10|\n",
            "|      2|    20181|2008|   10| 11|10/11/2008 21:54|     20|      181|    39.33|  -101.55|      0|      0|  0|       0|         0|   null|     null|  0.25|   10|\n",
            "|      3|    13039|2008|   10| 24|10/24/2008 16:55|     13|       39|    31.02|   -81.81|      0|      0|  0|       0|         0|   1000|     null|  0.25|   25|\n",
            "|      4|     5113|2008|   10|  6| 10/6/2008 13:46|      5|      113|    34.58|   -94.15|  34.63| -94.12|  1|       0|         0|  75000|     null|  3.41|  250|\n",
            "|      5|    48067|2008|   10|  6| 10/6/2008 16:05|     48|       67|    33.07|    -94.1|  33.09| -94.08|  0|       0|         0|  75000|     null|   1.5|  100|\n",
            "|      6|    48001|2008|   10|  6| 10/6/2008 19:29|     48|        1|    31.85|   -95.87|  31.88| -95.73|  0|       0|         0|  55000|     null|  6.95|   50|\n",
            "|      7|    48073|2008|   10|  6| 10/6/2008 21:10|     48|       73|    32.14|   -95.31|  32.14| -95.31|  0|       0|         0|   null|     null|   0.5|   50|\n",
            "|      8|    28115|2008|   10|  7| 10/7/2008 18:55|     28|      115|    34.23|   -89.02|  34.23| -89.02|  1|       0|         0|  15000|     null|  0.05|   30|\n",
            "|      9|     1127|2008|   10|  8|  10/8/2008 4:30|      1|      127|    33.95|   -87.58|  33.96| -87.57|  0|       0|         0|  15000|     null|  0.48|   40|\n",
            "|     10|    12005|2008|   10|  8|  10/8/2008 7:23|     12|        5|    30.14|   -85.74|  30.19| -85.71|  0|       0|         0| 500000|     null|  3.46|  125|\n",
            "|     11|     1039|2008|   10|  8|  10/8/2008 9:25|      1|       39|    31.14|   -86.47|  31.16| -86.45|  0|       0|         0|  50000|     null|  1.89|   50|\n",
            "|     12|     1031|2008|   10|  8| 10/8/2008 10:54|      1|       31|    31.32|   -85.86|  31.32| -85.83|  1|       0|         0|4000000|     null|   1.9|  150|\n",
            "|     13|     1045|2008|   10|  8| 10/8/2008 11:15|      1|       45|    31.33|   -85.73|  31.33| -85.71|  0|       0|         0| 150000|     null|   1.1|   75|\n",
            "|     14|     1045|2008|   10|  8| 10/8/2008 11:25|      1|       45|    31.38|   -85.65|  31.39| -85.61|  0|       0|         0|  50000|     null|  2.43|   75|\n",
            "|     15|     1069|2008|   10|  8| 10/8/2008 12:05|      1|       69|    31.24|   -85.63|  31.28| -85.58|  0|       0|         0|  75000|     null|  3.95|   75|\n",
            "|     16|     1045|2008|   10|  8| 10/8/2008 12:17|      1|       45|    31.31|   -85.53|  31.32| -85.53|  0|       0|         0|   null|     null|  0.36|   50|\n",
            "|     17|     1067|2008|   10|  8| 10/8/2008 12:33|      1|       67|    31.49|   -85.41|   31.5|  -85.4|  0|       0|         0|  75000|     null|  0.44|   75|\n",
            "|     18|     1093|2008|   10|  8| 10/8/2008 14:19|      1|       93|    33.93|   -87.85|      0|      0|  0|       0|         0|   null|     null|  0.01|   20|\n",
            "|     19|    13113|2008|   10|  8| 10/8/2008 14:35|     13|      113|    33.48|   -84.44|  33.48| -84.44|  0|       0|         0| 125000|     null|  0.05|   50|\n",
            "|     20|    12065|2008|   10|  8| 10/8/2008 15:24|     12|       65|    30.44|   -84.03|  30.46| -84.03|  1|       0|         0|  10000|     null|  0.77|   75|\n",
            "+-------+---------+----+-----+---+----------------+-------+---------+---------+---------+-------+-------+---+--------+----------+-------+---------+------+-----+\n",
            "only showing top 20 rows\n",
            "\n"
          ]
        }
      ],
      "id": "w2a8HZcetTL4"
    },
    {
      "cell_type": "code",
      "source": [
        "# Convert spark object to pandas dataframe\n",
        "tornado_df = tornado.toPandas()\n",
        "tornado_df"
      ],
      "metadata": {
        "colab": {
          "base_uri": "https://localhost:8080/",
          "height": 424
        },
        "id": "B_sBwmbHt_7t",
        "outputId": "048080c1-88b4-4a64-867d-92ecff0b8e2f"
      },
      "execution_count": 6,
      "outputs": [
        {
          "output_type": "execute_result",
          "data": {
            "text/plain": [
              "      Torn_ID County_ID  Year Month Day         Timestamp ST_FIPS CNTY_FIPS  \\\n",
              "0           1     35049  2008    10  11  10/11/2008 18:33      35        49   \n",
              "1           2     20181  2008    10  11  10/11/2008 21:54      20       181   \n",
              "2           3     13039  2008    10  24  10/24/2008 16:55      13        39   \n",
              "3           4      5113  2008    10   6   10/6/2008 13:46       5       113   \n",
              "4           5     48067  2008    10   6   10/6/2008 16:05      48        67   \n",
              "...       ...       ...   ...   ...  ..               ...     ...       ...   \n",
              "15886   15887     47095  2020     9   1    9/1/2020 16:24      47        95   \n",
              "15887   15888     24003  2020     9   3    9/3/2020 15:57      24         3   \n",
              "15888   15889      6039  2020     9   5    9/5/2020 16:17       6        39   \n",
              "15889   15890      6019  2020     9   5    9/5/2020 18:29       6        19   \n",
              "15890   15891     39041  2020     9   7    9/7/2020 15:14      39        41   \n",
              "\n",
              "      Start_Lat Start_Lon  End_Lat    End_Lon EF Injuries Fatalities     Loss  \\\n",
              "0         35.15   -105.94        0          0  0        0          0    12000   \n",
              "1         39.33   -101.55        0          0  0        0          0     None   \n",
              "2         31.02    -81.81        0          0  0        0          0     1000   \n",
              "3         34.58    -94.15    34.63     -94.12  1        0          0    75000   \n",
              "4         33.07     -94.1    33.09     -94.08  0        0          0    75000   \n",
              "...         ...       ...      ...        ... ..      ...        ...      ...   \n",
              "15886    36.329  -89.4981  36.3517   -89.4729  0        0          0     None   \n",
              "15887    38.948  -76.5695  38.9233   -76.4615  0        0          0  1250000   \n",
              "15888     37.35   -119.34  37.5218  -119.3056  2        0          0     None   \n",
              "15889     37.25    -119.2  37.2598  -119.1838  1        0          0     None   \n",
              "15890   40.2966  -82.9889  40.2703   -82.9386  0        0          0    25000   \n",
              "\n",
              "      Crop_Loss Length Width  \n",
              "0          None   0.02    10  \n",
              "1          None   0.25    10  \n",
              "2          None   0.25    25  \n",
              "3          None   3.41   250  \n",
              "4          None    1.5   100  \n",
              "...         ...    ...   ...  \n",
              "15886      2000    2.1    50  \n",
              "15887      None   6.05   100  \n",
              "15888      None  12.02    50  \n",
              "15889      None   1.12    25  \n",
              "15890      None   3.21   150  \n",
              "\n",
              "[15891 rows x 19 columns]"
            ],
            "text/html": [
              "\n",
              "  <div id=\"df-887de610-5941-4014-9add-3f4f9f3635c6\">\n",
              "    <div class=\"colab-df-container\">\n",
              "      <div>\n",
              "<style scoped>\n",
              "    .dataframe tbody tr th:only-of-type {\n",
              "        vertical-align: middle;\n",
              "    }\n",
              "\n",
              "    .dataframe tbody tr th {\n",
              "        vertical-align: top;\n",
              "    }\n",
              "\n",
              "    .dataframe thead th {\n",
              "        text-align: right;\n",
              "    }\n",
              "</style>\n",
              "<table border=\"1\" class=\"dataframe\">\n",
              "  <thead>\n",
              "    <tr style=\"text-align: right;\">\n",
              "      <th></th>\n",
              "      <th>Torn_ID</th>\n",
              "      <th>County_ID</th>\n",
              "      <th>Year</th>\n",
              "      <th>Month</th>\n",
              "      <th>Day</th>\n",
              "      <th>Timestamp</th>\n",
              "      <th>ST_FIPS</th>\n",
              "      <th>CNTY_FIPS</th>\n",
              "      <th>Start_Lat</th>\n",
              "      <th>Start_Lon</th>\n",
              "      <th>End_Lat</th>\n",
              "      <th>End_Lon</th>\n",
              "      <th>EF</th>\n",
              "      <th>Injuries</th>\n",
              "      <th>Fatalities</th>\n",
              "      <th>Loss</th>\n",
              "      <th>Crop_Loss</th>\n",
              "      <th>Length</th>\n",
              "      <th>Width</th>\n",
              "    </tr>\n",
              "  </thead>\n",
              "  <tbody>\n",
              "    <tr>\n",
              "      <th>0</th>\n",
              "      <td>1</td>\n",
              "      <td>35049</td>\n",
              "      <td>2008</td>\n",
              "      <td>10</td>\n",
              "      <td>11</td>\n",
              "      <td>10/11/2008 18:33</td>\n",
              "      <td>35</td>\n",
              "      <td>49</td>\n",
              "      <td>35.15</td>\n",
              "      <td>-105.94</td>\n",
              "      <td>0</td>\n",
              "      <td>0</td>\n",
              "      <td>0</td>\n",
              "      <td>0</td>\n",
              "      <td>0</td>\n",
              "      <td>12000</td>\n",
              "      <td>None</td>\n",
              "      <td>0.02</td>\n",
              "      <td>10</td>\n",
              "    </tr>\n",
              "    <tr>\n",
              "      <th>1</th>\n",
              "      <td>2</td>\n",
              "      <td>20181</td>\n",
              "      <td>2008</td>\n",
              "      <td>10</td>\n",
              "      <td>11</td>\n",
              "      <td>10/11/2008 21:54</td>\n",
              "      <td>20</td>\n",
              "      <td>181</td>\n",
              "      <td>39.33</td>\n",
              "      <td>-101.55</td>\n",
              "      <td>0</td>\n",
              "      <td>0</td>\n",
              "      <td>0</td>\n",
              "      <td>0</td>\n",
              "      <td>0</td>\n",
              "      <td>None</td>\n",
              "      <td>None</td>\n",
              "      <td>0.25</td>\n",
              "      <td>10</td>\n",
              "    </tr>\n",
              "    <tr>\n",
              "      <th>2</th>\n",
              "      <td>3</td>\n",
              "      <td>13039</td>\n",
              "      <td>2008</td>\n",
              "      <td>10</td>\n",
              "      <td>24</td>\n",
              "      <td>10/24/2008 16:55</td>\n",
              "      <td>13</td>\n",
              "      <td>39</td>\n",
              "      <td>31.02</td>\n",
              "      <td>-81.81</td>\n",
              "      <td>0</td>\n",
              "      <td>0</td>\n",
              "      <td>0</td>\n",
              "      <td>0</td>\n",
              "      <td>0</td>\n",
              "      <td>1000</td>\n",
              "      <td>None</td>\n",
              "      <td>0.25</td>\n",
              "      <td>25</td>\n",
              "    </tr>\n",
              "    <tr>\n",
              "      <th>3</th>\n",
              "      <td>4</td>\n",
              "      <td>5113</td>\n",
              "      <td>2008</td>\n",
              "      <td>10</td>\n",
              "      <td>6</td>\n",
              "      <td>10/6/2008 13:46</td>\n",
              "      <td>5</td>\n",
              "      <td>113</td>\n",
              "      <td>34.58</td>\n",
              "      <td>-94.15</td>\n",
              "      <td>34.63</td>\n",
              "      <td>-94.12</td>\n",
              "      <td>1</td>\n",
              "      <td>0</td>\n",
              "      <td>0</td>\n",
              "      <td>75000</td>\n",
              "      <td>None</td>\n",
              "      <td>3.41</td>\n",
              "      <td>250</td>\n",
              "    </tr>\n",
              "    <tr>\n",
              "      <th>4</th>\n",
              "      <td>5</td>\n",
              "      <td>48067</td>\n",
              "      <td>2008</td>\n",
              "      <td>10</td>\n",
              "      <td>6</td>\n",
              "      <td>10/6/2008 16:05</td>\n",
              "      <td>48</td>\n",
              "      <td>67</td>\n",
              "      <td>33.07</td>\n",
              "      <td>-94.1</td>\n",
              "      <td>33.09</td>\n",
              "      <td>-94.08</td>\n",
              "      <td>0</td>\n",
              "      <td>0</td>\n",
              "      <td>0</td>\n",
              "      <td>75000</td>\n",
              "      <td>None</td>\n",
              "      <td>1.5</td>\n",
              "      <td>100</td>\n",
              "    </tr>\n",
              "    <tr>\n",
              "      <th>...</th>\n",
              "      <td>...</td>\n",
              "      <td>...</td>\n",
              "      <td>...</td>\n",
              "      <td>...</td>\n",
              "      <td>...</td>\n",
              "      <td>...</td>\n",
              "      <td>...</td>\n",
              "      <td>...</td>\n",
              "      <td>...</td>\n",
              "      <td>...</td>\n",
              "      <td>...</td>\n",
              "      <td>...</td>\n",
              "      <td>...</td>\n",
              "      <td>...</td>\n",
              "      <td>...</td>\n",
              "      <td>...</td>\n",
              "      <td>...</td>\n",
              "      <td>...</td>\n",
              "      <td>...</td>\n",
              "    </tr>\n",
              "    <tr>\n",
              "      <th>15886</th>\n",
              "      <td>15887</td>\n",
              "      <td>47095</td>\n",
              "      <td>2020</td>\n",
              "      <td>9</td>\n",
              "      <td>1</td>\n",
              "      <td>9/1/2020 16:24</td>\n",
              "      <td>47</td>\n",
              "      <td>95</td>\n",
              "      <td>36.329</td>\n",
              "      <td>-89.4981</td>\n",
              "      <td>36.3517</td>\n",
              "      <td>-89.4729</td>\n",
              "      <td>0</td>\n",
              "      <td>0</td>\n",
              "      <td>0</td>\n",
              "      <td>None</td>\n",
              "      <td>2000</td>\n",
              "      <td>2.1</td>\n",
              "      <td>50</td>\n",
              "    </tr>\n",
              "    <tr>\n",
              "      <th>15887</th>\n",
              "      <td>15888</td>\n",
              "      <td>24003</td>\n",
              "      <td>2020</td>\n",
              "      <td>9</td>\n",
              "      <td>3</td>\n",
              "      <td>9/3/2020 15:57</td>\n",
              "      <td>24</td>\n",
              "      <td>3</td>\n",
              "      <td>38.948</td>\n",
              "      <td>-76.5695</td>\n",
              "      <td>38.9233</td>\n",
              "      <td>-76.4615</td>\n",
              "      <td>0</td>\n",
              "      <td>0</td>\n",
              "      <td>0</td>\n",
              "      <td>1250000</td>\n",
              "      <td>None</td>\n",
              "      <td>6.05</td>\n",
              "      <td>100</td>\n",
              "    </tr>\n",
              "    <tr>\n",
              "      <th>15888</th>\n",
              "      <td>15889</td>\n",
              "      <td>6039</td>\n",
              "      <td>2020</td>\n",
              "      <td>9</td>\n",
              "      <td>5</td>\n",
              "      <td>9/5/2020 16:17</td>\n",
              "      <td>6</td>\n",
              "      <td>39</td>\n",
              "      <td>37.35</td>\n",
              "      <td>-119.34</td>\n",
              "      <td>37.5218</td>\n",
              "      <td>-119.3056</td>\n",
              "      <td>2</td>\n",
              "      <td>0</td>\n",
              "      <td>0</td>\n",
              "      <td>None</td>\n",
              "      <td>None</td>\n",
              "      <td>12.02</td>\n",
              "      <td>50</td>\n",
              "    </tr>\n",
              "    <tr>\n",
              "      <th>15889</th>\n",
              "      <td>15890</td>\n",
              "      <td>6019</td>\n",
              "      <td>2020</td>\n",
              "      <td>9</td>\n",
              "      <td>5</td>\n",
              "      <td>9/5/2020 18:29</td>\n",
              "      <td>6</td>\n",
              "      <td>19</td>\n",
              "      <td>37.25</td>\n",
              "      <td>-119.2</td>\n",
              "      <td>37.2598</td>\n",
              "      <td>-119.1838</td>\n",
              "      <td>1</td>\n",
              "      <td>0</td>\n",
              "      <td>0</td>\n",
              "      <td>None</td>\n",
              "      <td>None</td>\n",
              "      <td>1.12</td>\n",
              "      <td>25</td>\n",
              "    </tr>\n",
              "    <tr>\n",
              "      <th>15890</th>\n",
              "      <td>15891</td>\n",
              "      <td>39041</td>\n",
              "      <td>2020</td>\n",
              "      <td>9</td>\n",
              "      <td>7</td>\n",
              "      <td>9/7/2020 15:14</td>\n",
              "      <td>39</td>\n",
              "      <td>41</td>\n",
              "      <td>40.2966</td>\n",
              "      <td>-82.9889</td>\n",
              "      <td>40.2703</td>\n",
              "      <td>-82.9386</td>\n",
              "      <td>0</td>\n",
              "      <td>0</td>\n",
              "      <td>0</td>\n",
              "      <td>25000</td>\n",
              "      <td>None</td>\n",
              "      <td>3.21</td>\n",
              "      <td>150</td>\n",
              "    </tr>\n",
              "  </tbody>\n",
              "</table>\n",
              "<p>15891 rows × 19 columns</p>\n",
              "</div>\n",
              "      <button class=\"colab-df-convert\" onclick=\"convertToInteractive('df-887de610-5941-4014-9add-3f4f9f3635c6')\"\n",
              "              title=\"Convert this dataframe to an interactive table.\"\n",
              "              style=\"display:none;\">\n",
              "        \n",
              "  <svg xmlns=\"http://www.w3.org/2000/svg\" height=\"24px\"viewBox=\"0 0 24 24\"\n",
              "       width=\"24px\">\n",
              "    <path d=\"M0 0h24v24H0V0z\" fill=\"none\"/>\n",
              "    <path d=\"M18.56 5.44l.94 2.06.94-2.06 2.06-.94-2.06-.94-.94-2.06-.94 2.06-2.06.94zm-11 1L8.5 8.5l.94-2.06 2.06-.94-2.06-.94L8.5 2.5l-.94 2.06-2.06.94zm10 10l.94 2.06.94-2.06 2.06-.94-2.06-.94-.94-2.06-.94 2.06-2.06.94z\"/><path d=\"M17.41 7.96l-1.37-1.37c-.4-.4-.92-.59-1.43-.59-.52 0-1.04.2-1.43.59L10.3 9.45l-7.72 7.72c-.78.78-.78 2.05 0 2.83L4 21.41c.39.39.9.59 1.41.59.51 0 1.02-.2 1.41-.59l7.78-7.78 2.81-2.81c.8-.78.8-2.07 0-2.86zM5.41 20L4 18.59l7.72-7.72 1.47 1.35L5.41 20z\"/>\n",
              "  </svg>\n",
              "      </button>\n",
              "      \n",
              "  <style>\n",
              "    .colab-df-container {\n",
              "      display:flex;\n",
              "      flex-wrap:wrap;\n",
              "      gap: 12px;\n",
              "    }\n",
              "\n",
              "    .colab-df-convert {\n",
              "      background-color: #E8F0FE;\n",
              "      border: none;\n",
              "      border-radius: 50%;\n",
              "      cursor: pointer;\n",
              "      display: none;\n",
              "      fill: #1967D2;\n",
              "      height: 32px;\n",
              "      padding: 0 0 0 0;\n",
              "      width: 32px;\n",
              "    }\n",
              "\n",
              "    .colab-df-convert:hover {\n",
              "      background-color: #E2EBFA;\n",
              "      box-shadow: 0px 1px 2px rgba(60, 64, 67, 0.3), 0px 1px 3px 1px rgba(60, 64, 67, 0.15);\n",
              "      fill: #174EA6;\n",
              "    }\n",
              "\n",
              "    [theme=dark] .colab-df-convert {\n",
              "      background-color: #3B4455;\n",
              "      fill: #D2E3FC;\n",
              "    }\n",
              "\n",
              "    [theme=dark] .colab-df-convert:hover {\n",
              "      background-color: #434B5C;\n",
              "      box-shadow: 0px 1px 3px 1px rgba(0, 0, 0, 0.15);\n",
              "      filter: drop-shadow(0px 1px 2px rgba(0, 0, 0, 0.3));\n",
              "      fill: #FFFFFF;\n",
              "    }\n",
              "  </style>\n",
              "\n",
              "      <script>\n",
              "        const buttonEl =\n",
              "          document.querySelector('#df-887de610-5941-4014-9add-3f4f9f3635c6 button.colab-df-convert');\n",
              "        buttonEl.style.display =\n",
              "          google.colab.kernel.accessAllowed ? 'block' : 'none';\n",
              "\n",
              "        async function convertToInteractive(key) {\n",
              "          const element = document.querySelector('#df-887de610-5941-4014-9add-3f4f9f3635c6');\n",
              "          const dataTable =\n",
              "            await google.colab.kernel.invokeFunction('convertToInteractive',\n",
              "                                                     [key], {});\n",
              "          if (!dataTable) return;\n",
              "\n",
              "          const docLinkHtml = 'Like what you see? Visit the ' +\n",
              "            '<a target=\"_blank\" href=https://colab.research.google.com/notebooks/data_table.ipynb>data table notebook</a>'\n",
              "            + ' to learn more about interactive tables.';\n",
              "          element.innerHTML = '';\n",
              "          dataTable['output_type'] = 'display_data';\n",
              "          await google.colab.output.renderOutput(dataTable, element);\n",
              "          const docLink = document.createElement('div');\n",
              "          docLink.innerHTML = docLinkHtml;\n",
              "          element.appendChild(docLink);\n",
              "        }\n",
              "      </script>\n",
              "    </div>\n",
              "  </div>\n",
              "  "
            ]
          },
          "metadata": {},
          "execution_count": 6
        }
      ],
      "id": "B_sBwmbHt_7t"
    },
    {
      "cell_type": "code",
      "source": [
        "# Check data types\n",
        "tornado_df.dtypes"
      ],
      "metadata": {
        "colab": {
          "base_uri": "https://localhost:8080/"
        },
        "id": "h8wwp7NKvar7",
        "outputId": "bda87cd7-73b5-475b-861b-8b98807a18be"
      },
      "execution_count": 7,
      "outputs": [
        {
          "output_type": "execute_result",
          "data": {
            "text/plain": [
              "Torn_ID       object\n",
              "County_ID     object\n",
              "Year          object\n",
              "Month         object\n",
              "Day           object\n",
              "Timestamp     object\n",
              "ST_FIPS       object\n",
              "CNTY_FIPS     object\n",
              "Start_Lat     object\n",
              "Start_Lon     object\n",
              "End_Lat       object\n",
              "End_Lon       object\n",
              "EF            object\n",
              "Injuries      object\n",
              "Fatalities    object\n",
              "Loss          object\n",
              "Crop_Loss     object\n",
              "Length        object\n",
              "Width         object\n",
              "dtype: object"
            ]
          },
          "metadata": {},
          "execution_count": 7
        }
      ],
      "id": "h8wwp7NKvar7"
    },
    {
      "cell_type": "code",
      "source": [
        "# Convert timestamp to datetime\n",
        "tornado_df['Timestamp']= pd.to_datetime(tornado_df['Timestamp'])\n",
        "\n",
        "# Convert all strings to numeric\n",
        "cols=[i for i in tornado_df.columns if i not in [\"Timestamp\"]]\n",
        "for col in cols:\n",
        "    tornado_df[col]=pd.to_numeric(tornado_df[col])\n",
        "\n",
        "# check dtypes\n",
        "tornado_df.dtypes"
      ],
      "metadata": {
        "colab": {
          "base_uri": "https://localhost:8080/"
        },
        "outputId": "6f6b8135-e38b-430d-81e1-d2b75fa676d3",
        "id": "VI0WCI8x02BJ"
      },
      "execution_count": 8,
      "outputs": [
        {
          "output_type": "execute_result",
          "data": {
            "text/plain": [
              "Torn_ID                int64\n",
              "County_ID              int64\n",
              "Year                   int64\n",
              "Month                  int64\n",
              "Day                    int64\n",
              "Timestamp     datetime64[ns]\n",
              "ST_FIPS                int64\n",
              "CNTY_FIPS              int64\n",
              "Start_Lat            float64\n",
              "Start_Lon            float64\n",
              "End_Lat              float64\n",
              "End_Lon              float64\n",
              "EF                     int64\n",
              "Injuries               int64\n",
              "Fatalities             int64\n",
              "Loss                 float64\n",
              "Crop_Loss            float64\n",
              "Length               float64\n",
              "Width                  int64\n",
              "dtype: object"
            ]
          },
          "metadata": {},
          "execution_count": 8
        }
      ],
      "id": "VI0WCI8x02BJ"
    },
    {
      "cell_type": "code",
      "execution_count": 9,
      "id": "1dcbca99",
      "metadata": {
        "colab": {
          "base_uri": "https://localhost:8080/"
        },
        "id": "1dcbca99",
        "outputId": "01abdfa7-fef5-4c84-fb4a-597202495acb"
      },
      "outputs": [
        {
          "output_type": "execute_result",
          "data": {
            "text/plain": [
              "Index(['Torn_ID', 'County_ID', 'Year', 'Month', 'Day', 'Timestamp', 'ST_FIPS',\n",
              "       'CNTY_FIPS', 'Start_Lat', 'Start_Lon', 'End_Lat', 'End_Lon', 'EF',\n",
              "       'Injuries', 'Fatalities', 'Loss', 'Crop_Loss', 'Length', 'Width'],\n",
              "      dtype='object')"
            ]
          },
          "metadata": {},
          "execution_count": 9
        }
      ],
      "source": [
        "tornado_df.columns"
      ]
    },
    {
      "cell_type": "code",
      "execution_count": 10,
      "id": "8b99c5f9",
      "metadata": {
        "id": "8b99c5f9"
      },
      "outputs": [],
      "source": [
        "# drop na columns\n",
        "tornado_df = tornado_df.dropna()"
      ]
    },
    {
      "cell_type": "markdown",
      "id": "4046e39c",
      "metadata": {
        "id": "4046e39c"
      },
      "source": [
        "## Machine Learning"
      ]
    },
    {
      "cell_type": "code",
      "execution_count": 11,
      "id": "e87307fb",
      "metadata": {
        "id": "e87307fb"
      },
      "outputs": [],
      "source": [
        "# Import Dependencies\n",
        "from sklearn.model_selection import train_test_split\n",
        "from sklearn.preprocessing import StandardScaler\n",
        "from sklearn.ensemble import RandomForestClassifier\n",
        "from sklearn.metrics import confusion_matrix, accuracy_score, classification_report"
      ]
    },
    {
      "cell_type": "markdown",
      "id": "29b3b88f",
      "metadata": {
        "id": "29b3b88f"
      },
      "source": [
        "### Random Forest -- feature importance"
      ]
    },
    {
      "cell_type": "markdown",
      "id": "96cec66b",
      "metadata": {
        "id": "96cec66b"
      },
      "source": [
        "This algorithm takes inputs (Injuries\tFatalities\tLoss\tCrop_Loss\tLength\tWidth) to predict (EF)"
      ]
    },
    {
      "cell_type": "markdown",
      "id": "9b432474",
      "metadata": {
        "id": "9b432474"
      },
      "source": [
        "#### 1. Define input data (X) and output data (y)"
      ]
    },
    {
      "cell_type": "code",
      "execution_count": 12,
      "id": "b67ab39f",
      "metadata": {
        "colab": {
          "base_uri": "https://localhost:8080/",
          "height": 424
        },
        "id": "b67ab39f",
        "outputId": "2b1b6360-331c-424c-a1a5-49c6ede6ce88"
      },
      "outputs": [
        {
          "output_type": "execute_result",
          "data": {
            "text/plain": [
              "       Injuries  Fatalities       Loss  Crop_Loss  Length  Width\n",
              "22            0           0   510000.0    25000.0    8.13    200\n",
              "28            2           1   500000.0   200000.0    4.09    150\n",
              "29            4           1  1000000.0   200000.0    8.19    100\n",
              "73            0           0   350000.0   500000.0   10.59    500\n",
              "81            0           0    20000.0    60000.0    3.14    250\n",
              "...         ...         ...        ...        ...     ...    ...\n",
              "15764         0           0    20000.0     5000.0    1.26     50\n",
              "15785         1           0    35000.0    20000.0    0.26     50\n",
              "15786         0           0    45000.0    30000.0    2.17    100\n",
              "15838         0           0   150000.0   100000.0    2.58    100\n",
              "15844         0           0   225000.0    15000.0    0.87    100\n",
              "\n",
              "[640 rows x 6 columns]"
            ],
            "text/html": [
              "\n",
              "  <div id=\"df-438707db-2a1b-4906-916d-17ef7cf5390a\">\n",
              "    <div class=\"colab-df-container\">\n",
              "      <div>\n",
              "<style scoped>\n",
              "    .dataframe tbody tr th:only-of-type {\n",
              "        vertical-align: middle;\n",
              "    }\n",
              "\n",
              "    .dataframe tbody tr th {\n",
              "        vertical-align: top;\n",
              "    }\n",
              "\n",
              "    .dataframe thead th {\n",
              "        text-align: right;\n",
              "    }\n",
              "</style>\n",
              "<table border=\"1\" class=\"dataframe\">\n",
              "  <thead>\n",
              "    <tr style=\"text-align: right;\">\n",
              "      <th></th>\n",
              "      <th>Injuries</th>\n",
              "      <th>Fatalities</th>\n",
              "      <th>Loss</th>\n",
              "      <th>Crop_Loss</th>\n",
              "      <th>Length</th>\n",
              "      <th>Width</th>\n",
              "    </tr>\n",
              "  </thead>\n",
              "  <tbody>\n",
              "    <tr>\n",
              "      <th>22</th>\n",
              "      <td>0</td>\n",
              "      <td>0</td>\n",
              "      <td>510000.0</td>\n",
              "      <td>25000.0</td>\n",
              "      <td>8.13</td>\n",
              "      <td>200</td>\n",
              "    </tr>\n",
              "    <tr>\n",
              "      <th>28</th>\n",
              "      <td>2</td>\n",
              "      <td>1</td>\n",
              "      <td>500000.0</td>\n",
              "      <td>200000.0</td>\n",
              "      <td>4.09</td>\n",
              "      <td>150</td>\n",
              "    </tr>\n",
              "    <tr>\n",
              "      <th>29</th>\n",
              "      <td>4</td>\n",
              "      <td>1</td>\n",
              "      <td>1000000.0</td>\n",
              "      <td>200000.0</td>\n",
              "      <td>8.19</td>\n",
              "      <td>100</td>\n",
              "    </tr>\n",
              "    <tr>\n",
              "      <th>73</th>\n",
              "      <td>0</td>\n",
              "      <td>0</td>\n",
              "      <td>350000.0</td>\n",
              "      <td>500000.0</td>\n",
              "      <td>10.59</td>\n",
              "      <td>500</td>\n",
              "    </tr>\n",
              "    <tr>\n",
              "      <th>81</th>\n",
              "      <td>0</td>\n",
              "      <td>0</td>\n",
              "      <td>20000.0</td>\n",
              "      <td>60000.0</td>\n",
              "      <td>3.14</td>\n",
              "      <td>250</td>\n",
              "    </tr>\n",
              "    <tr>\n",
              "      <th>...</th>\n",
              "      <td>...</td>\n",
              "      <td>...</td>\n",
              "      <td>...</td>\n",
              "      <td>...</td>\n",
              "      <td>...</td>\n",
              "      <td>...</td>\n",
              "    </tr>\n",
              "    <tr>\n",
              "      <th>15764</th>\n",
              "      <td>0</td>\n",
              "      <td>0</td>\n",
              "      <td>20000.0</td>\n",
              "      <td>5000.0</td>\n",
              "      <td>1.26</td>\n",
              "      <td>50</td>\n",
              "    </tr>\n",
              "    <tr>\n",
              "      <th>15785</th>\n",
              "      <td>1</td>\n",
              "      <td>0</td>\n",
              "      <td>35000.0</td>\n",
              "      <td>20000.0</td>\n",
              "      <td>0.26</td>\n",
              "      <td>50</td>\n",
              "    </tr>\n",
              "    <tr>\n",
              "      <th>15786</th>\n",
              "      <td>0</td>\n",
              "      <td>0</td>\n",
              "      <td>45000.0</td>\n",
              "      <td>30000.0</td>\n",
              "      <td>2.17</td>\n",
              "      <td>100</td>\n",
              "    </tr>\n",
              "    <tr>\n",
              "      <th>15838</th>\n",
              "      <td>0</td>\n",
              "      <td>0</td>\n",
              "      <td>150000.0</td>\n",
              "      <td>100000.0</td>\n",
              "      <td>2.58</td>\n",
              "      <td>100</td>\n",
              "    </tr>\n",
              "    <tr>\n",
              "      <th>15844</th>\n",
              "      <td>0</td>\n",
              "      <td>0</td>\n",
              "      <td>225000.0</td>\n",
              "      <td>15000.0</td>\n",
              "      <td>0.87</td>\n",
              "      <td>100</td>\n",
              "    </tr>\n",
              "  </tbody>\n",
              "</table>\n",
              "<p>640 rows × 6 columns</p>\n",
              "</div>\n",
              "      <button class=\"colab-df-convert\" onclick=\"convertToInteractive('df-438707db-2a1b-4906-916d-17ef7cf5390a')\"\n",
              "              title=\"Convert this dataframe to an interactive table.\"\n",
              "              style=\"display:none;\">\n",
              "        \n",
              "  <svg xmlns=\"http://www.w3.org/2000/svg\" height=\"24px\"viewBox=\"0 0 24 24\"\n",
              "       width=\"24px\">\n",
              "    <path d=\"M0 0h24v24H0V0z\" fill=\"none\"/>\n",
              "    <path d=\"M18.56 5.44l.94 2.06.94-2.06 2.06-.94-2.06-.94-.94-2.06-.94 2.06-2.06.94zm-11 1L8.5 8.5l.94-2.06 2.06-.94-2.06-.94L8.5 2.5l-.94 2.06-2.06.94zm10 10l.94 2.06.94-2.06 2.06-.94-2.06-.94-.94-2.06-.94 2.06-2.06.94z\"/><path d=\"M17.41 7.96l-1.37-1.37c-.4-.4-.92-.59-1.43-.59-.52 0-1.04.2-1.43.59L10.3 9.45l-7.72 7.72c-.78.78-.78 2.05 0 2.83L4 21.41c.39.39.9.59 1.41.59.51 0 1.02-.2 1.41-.59l7.78-7.78 2.81-2.81c.8-.78.8-2.07 0-2.86zM5.41 20L4 18.59l7.72-7.72 1.47 1.35L5.41 20z\"/>\n",
              "  </svg>\n",
              "      </button>\n",
              "      \n",
              "  <style>\n",
              "    .colab-df-container {\n",
              "      display:flex;\n",
              "      flex-wrap:wrap;\n",
              "      gap: 12px;\n",
              "    }\n",
              "\n",
              "    .colab-df-convert {\n",
              "      background-color: #E8F0FE;\n",
              "      border: none;\n",
              "      border-radius: 50%;\n",
              "      cursor: pointer;\n",
              "      display: none;\n",
              "      fill: #1967D2;\n",
              "      height: 32px;\n",
              "      padding: 0 0 0 0;\n",
              "      width: 32px;\n",
              "    }\n",
              "\n",
              "    .colab-df-convert:hover {\n",
              "      background-color: #E2EBFA;\n",
              "      box-shadow: 0px 1px 2px rgba(60, 64, 67, 0.3), 0px 1px 3px 1px rgba(60, 64, 67, 0.15);\n",
              "      fill: #174EA6;\n",
              "    }\n",
              "\n",
              "    [theme=dark] .colab-df-convert {\n",
              "      background-color: #3B4455;\n",
              "      fill: #D2E3FC;\n",
              "    }\n",
              "\n",
              "    [theme=dark] .colab-df-convert:hover {\n",
              "      background-color: #434B5C;\n",
              "      box-shadow: 0px 1px 3px 1px rgba(0, 0, 0, 0.15);\n",
              "      filter: drop-shadow(0px 1px 2px rgba(0, 0, 0, 0.3));\n",
              "      fill: #FFFFFF;\n",
              "    }\n",
              "  </style>\n",
              "\n",
              "      <script>\n",
              "        const buttonEl =\n",
              "          document.querySelector('#df-438707db-2a1b-4906-916d-17ef7cf5390a button.colab-df-convert');\n",
              "        buttonEl.style.display =\n",
              "          google.colab.kernel.accessAllowed ? 'block' : 'none';\n",
              "\n",
              "        async function convertToInteractive(key) {\n",
              "          const element = document.querySelector('#df-438707db-2a1b-4906-916d-17ef7cf5390a');\n",
              "          const dataTable =\n",
              "            await google.colab.kernel.invokeFunction('convertToInteractive',\n",
              "                                                     [key], {});\n",
              "          if (!dataTable) return;\n",
              "\n",
              "          const docLinkHtml = 'Like what you see? Visit the ' +\n",
              "            '<a target=\"_blank\" href=https://colab.research.google.com/notebooks/data_table.ipynb>data table notebook</a>'\n",
              "            + ' to learn more about interactive tables.';\n",
              "          element.innerHTML = '';\n",
              "          dataTable['output_type'] = 'display_data';\n",
              "          await google.colab.output.renderOutput(dataTable, element);\n",
              "          const docLink = document.createElement('div');\n",
              "          docLink.innerHTML = docLinkHtml;\n",
              "          element.appendChild(docLink);\n",
              "        }\n",
              "      </script>\n",
              "    </div>\n",
              "  </div>\n",
              "  "
            ]
          },
          "metadata": {},
          "execution_count": 12
        }
      ],
      "source": [
        "X = tornado_df.copy()\n",
        "X = X.drop(['Torn_ID','County_ID','Year', 'Month', 'Day', 'Timestamp','ST_FIPS','CNTY_FIPS','Start_Lat','Start_Lon','End_Lat', 'End_Lon','EF'], axis=1)\n",
        "X"
      ]
    },
    {
      "cell_type": "code",
      "execution_count": 13,
      "id": "18d8940f",
      "metadata": {
        "colab": {
          "base_uri": "https://localhost:8080/"
        },
        "id": "18d8940f",
        "outputId": "66ca78a1-cc55-401b-dfb3-8d575d31180a"
      },
      "outputs": [
        {
          "output_type": "execute_result",
          "data": {
            "text/plain": [
              "array([1, 2, 3, 1, 1, 3, 3, 1, 1, 1])"
            ]
          },
          "metadata": {},
          "execution_count": 13
        }
      ],
      "source": [
        "y = tornado_df[\"EF\"].ravel()\n",
        "y[:10]"
      ]
    },
    {
      "cell_type": "markdown",
      "id": "9f56735e",
      "metadata": {
        "id": "9f56735e"
      },
      "source": [
        "#### 2. Splitting into Train and Test sets"
      ]
    },
    {
      "cell_type": "code",
      "execution_count": 14,
      "id": "bf10a149",
      "metadata": {
        "id": "bf10a149"
      },
      "outputs": [],
      "source": [
        "X_train, X_test, y_train, y_test = train_test_split(X, y)"
      ]
    },
    {
      "cell_type": "markdown",
      "id": "98eba141",
      "metadata": {
        "id": "98eba141"
      },
      "source": [
        "#### 3. Scale the input data (X)"
      ]
    },
    {
      "cell_type": "code",
      "execution_count": 15,
      "id": "9c527628",
      "metadata": {
        "id": "9c527628"
      },
      "outputs": [],
      "source": [
        "# Creating StandardScaler instance\n",
        "scaler = StandardScaler()\n",
        "# Fitting Standard Scaller\n",
        "X_scaler = scaler.fit(X_train)\n",
        "# Scaling data\n",
        "X_train_scaled = X_scaler.transform(X_train)\n",
        "X_test_scaled = X_scaler.transform(X_test)"
      ]
    },
    {
      "cell_type": "markdown",
      "id": "b3c929c2",
      "metadata": {
        "id": "b3c929c2"
      },
      "source": [
        "#### 4. Fitting the Random Forest Model"
      ]
    },
    {
      "cell_type": "code",
      "execution_count": 16,
      "id": "ccbd0619",
      "metadata": {
        "id": "ccbd0619"
      },
      "outputs": [],
      "source": [
        "# Create a random forest classifier.\n",
        "rf_model = RandomForestClassifier(n_estimators=500, random_state=78)"
      ]
    },
    {
      "cell_type": "code",
      "execution_count": 17,
      "id": "9ca74dc5",
      "metadata": {
        "id": "9ca74dc5"
      },
      "outputs": [],
      "source": [
        " # Fitting the model\n",
        "model = rf_model.fit(X_train_scaled, y_train)"
      ]
    },
    {
      "cell_type": "markdown",
      "id": "aca260f3",
      "metadata": {
        "id": "aca260f3"
      },
      "source": [
        "#### 5. Making Predictions Using Random Forest Model"
      ]
    },
    {
      "cell_type": "code",
      "execution_count": 18,
      "id": "03bdb8a6",
      "metadata": {
        "colab": {
          "base_uri": "https://localhost:8080/"
        },
        "id": "03bdb8a6",
        "outputId": "3819da01-f1af-43a9-f7eb-af7c68f2f02c"
      },
      "outputs": [
        {
          "output_type": "execute_result",
          "data": {
            "text/plain": [
              "array([0, 1, 0, 1, 1, 1, 1, 0, 3, 1, 1, 1, 2, 1, 2, 2, 0, 2, 1, 2, 1, 1,\n",
              "       1, 2, 1, 2, 1, 2, 0, 1, 1, 2, 0, 0, 1, 1, 0, 0, 1, 0, 0, 0, 1, 2,\n",
              "       2, 4, 2, 0, 2, 2, 1, 1, 1, 1, 0, 0, 1, 1, 1, 1, 0, 1, 1, 1, 1, 0,\n",
              "       1, 0, 0, 1, 2, 1, 0, 0, 1, 1, 1, 1, 0, 1, 2, 1, 0, 2, 2, 1, 1, 0,\n",
              "       1, 1, 1, 1, 1, 2, 1, 1, 0, 0, 2, 1, 2, 1, 1, 1, 3, 3, 2, 0, 2, 1,\n",
              "       0, 1, 0, 1, 1, 1, 1, 0, 1, 0, 1, 0, 1, 1, 3, 0, 1, 2, 1, 1, 0, 0,\n",
              "       1, 1, 2, 1, 3, 2, 2, 1, 2, 1, 1, 1, 1, 2, 1, 1, 1, 2, 1, 0, 0, 0,\n",
              "       3, 1, 2, 1, 1, 0])"
            ]
          },
          "metadata": {},
          "execution_count": 18
        }
      ],
      "source": [
        "# Making predictions using the testing data.\n",
        "predictions = rf_model.predict(X_test_scaled)\n",
        "predictions"
      ]
    },
    {
      "cell_type": "markdown",
      "id": "94d84c77",
      "metadata": {
        "id": "94d84c77"
      },
      "source": [
        "#### 6. Model Evaluation"
      ]
    },
    {
      "cell_type": "code",
      "execution_count": 19,
      "id": "ab35e5ae",
      "metadata": {
        "id": "ab35e5ae"
      },
      "outputs": [],
      "source": [
        "# Calculating the confusion matrix\n",
        "cm = confusion_matrix(y_test, predictions)\n",
        "cm_df = pd.DataFrame(\n",
        "    cm, index=[\"Actual 0\", \"Actual 1\",\"Actual 2\", \"Actual 3\",\"Actual 4\"], columns=[\"Predicted 0\", \"Predicted 1\", \"Predicted 2\", \"Predicted 3\",\"Predicted 4\"]\n",
        ")\n",
        "# Calculating the accuracy score\n",
        "acc_score = accuracy_score(y_test, predictions)"
      ]
    },
    {
      "cell_type": "code",
      "execution_count": 20,
      "id": "ee16e8ed",
      "metadata": {
        "colab": {
          "base_uri": "https://localhost:8080/",
          "height": 467
        },
        "id": "ee16e8ed",
        "outputId": "8fdb7561-5852-480e-ba74-2d1acaa80e9b"
      },
      "outputs": [
        {
          "output_type": "stream",
          "name": "stdout",
          "text": [
            "Confusion Matrix\n"
          ]
        },
        {
          "output_type": "display_data",
          "data": {
            "text/plain": [
              "          Predicted 0  Predicted 1  Predicted 2  Predicted 3  Predicted 4\n",
              "Actual 0           26           18            1            0            0\n",
              "Actual 1           13           52            8            1            0\n",
              "Actual 2            0           12           12            1            0\n",
              "Actual 3            0            1            8            4            0\n",
              "Actual 4            0            0            2            0            1"
            ],
            "text/html": [
              "\n",
              "  <div id=\"df-9c672824-3a6f-4537-9c44-1d7e6d848b76\">\n",
              "    <div class=\"colab-df-container\">\n",
              "      <div>\n",
              "<style scoped>\n",
              "    .dataframe tbody tr th:only-of-type {\n",
              "        vertical-align: middle;\n",
              "    }\n",
              "\n",
              "    .dataframe tbody tr th {\n",
              "        vertical-align: top;\n",
              "    }\n",
              "\n",
              "    .dataframe thead th {\n",
              "        text-align: right;\n",
              "    }\n",
              "</style>\n",
              "<table border=\"1\" class=\"dataframe\">\n",
              "  <thead>\n",
              "    <tr style=\"text-align: right;\">\n",
              "      <th></th>\n",
              "      <th>Predicted 0</th>\n",
              "      <th>Predicted 1</th>\n",
              "      <th>Predicted 2</th>\n",
              "      <th>Predicted 3</th>\n",
              "      <th>Predicted 4</th>\n",
              "    </tr>\n",
              "  </thead>\n",
              "  <tbody>\n",
              "    <tr>\n",
              "      <th>Actual 0</th>\n",
              "      <td>26</td>\n",
              "      <td>18</td>\n",
              "      <td>1</td>\n",
              "      <td>0</td>\n",
              "      <td>0</td>\n",
              "    </tr>\n",
              "    <tr>\n",
              "      <th>Actual 1</th>\n",
              "      <td>13</td>\n",
              "      <td>52</td>\n",
              "      <td>8</td>\n",
              "      <td>1</td>\n",
              "      <td>0</td>\n",
              "    </tr>\n",
              "    <tr>\n",
              "      <th>Actual 2</th>\n",
              "      <td>0</td>\n",
              "      <td>12</td>\n",
              "      <td>12</td>\n",
              "      <td>1</td>\n",
              "      <td>0</td>\n",
              "    </tr>\n",
              "    <tr>\n",
              "      <th>Actual 3</th>\n",
              "      <td>0</td>\n",
              "      <td>1</td>\n",
              "      <td>8</td>\n",
              "      <td>4</td>\n",
              "      <td>0</td>\n",
              "    </tr>\n",
              "    <tr>\n",
              "      <th>Actual 4</th>\n",
              "      <td>0</td>\n",
              "      <td>0</td>\n",
              "      <td>2</td>\n",
              "      <td>0</td>\n",
              "      <td>1</td>\n",
              "    </tr>\n",
              "  </tbody>\n",
              "</table>\n",
              "</div>\n",
              "      <button class=\"colab-df-convert\" onclick=\"convertToInteractive('df-9c672824-3a6f-4537-9c44-1d7e6d848b76')\"\n",
              "              title=\"Convert this dataframe to an interactive table.\"\n",
              "              style=\"display:none;\">\n",
              "        \n",
              "  <svg xmlns=\"http://www.w3.org/2000/svg\" height=\"24px\"viewBox=\"0 0 24 24\"\n",
              "       width=\"24px\">\n",
              "    <path d=\"M0 0h24v24H0V0z\" fill=\"none\"/>\n",
              "    <path d=\"M18.56 5.44l.94 2.06.94-2.06 2.06-.94-2.06-.94-.94-2.06-.94 2.06-2.06.94zm-11 1L8.5 8.5l.94-2.06 2.06-.94-2.06-.94L8.5 2.5l-.94 2.06-2.06.94zm10 10l.94 2.06.94-2.06 2.06-.94-2.06-.94-.94-2.06-.94 2.06-2.06.94z\"/><path d=\"M17.41 7.96l-1.37-1.37c-.4-.4-.92-.59-1.43-.59-.52 0-1.04.2-1.43.59L10.3 9.45l-7.72 7.72c-.78.78-.78 2.05 0 2.83L4 21.41c.39.39.9.59 1.41.59.51 0 1.02-.2 1.41-.59l7.78-7.78 2.81-2.81c.8-.78.8-2.07 0-2.86zM5.41 20L4 18.59l7.72-7.72 1.47 1.35L5.41 20z\"/>\n",
              "  </svg>\n",
              "      </button>\n",
              "      \n",
              "  <style>\n",
              "    .colab-df-container {\n",
              "      display:flex;\n",
              "      flex-wrap:wrap;\n",
              "      gap: 12px;\n",
              "    }\n",
              "\n",
              "    .colab-df-convert {\n",
              "      background-color: #E8F0FE;\n",
              "      border: none;\n",
              "      border-radius: 50%;\n",
              "      cursor: pointer;\n",
              "      display: none;\n",
              "      fill: #1967D2;\n",
              "      height: 32px;\n",
              "      padding: 0 0 0 0;\n",
              "      width: 32px;\n",
              "    }\n",
              "\n",
              "    .colab-df-convert:hover {\n",
              "      background-color: #E2EBFA;\n",
              "      box-shadow: 0px 1px 2px rgba(60, 64, 67, 0.3), 0px 1px 3px 1px rgba(60, 64, 67, 0.15);\n",
              "      fill: #174EA6;\n",
              "    }\n",
              "\n",
              "    [theme=dark] .colab-df-convert {\n",
              "      background-color: #3B4455;\n",
              "      fill: #D2E3FC;\n",
              "    }\n",
              "\n",
              "    [theme=dark] .colab-df-convert:hover {\n",
              "      background-color: #434B5C;\n",
              "      box-shadow: 0px 1px 3px 1px rgba(0, 0, 0, 0.15);\n",
              "      filter: drop-shadow(0px 1px 2px rgba(0, 0, 0, 0.3));\n",
              "      fill: #FFFFFF;\n",
              "    }\n",
              "  </style>\n",
              "\n",
              "      <script>\n",
              "        const buttonEl =\n",
              "          document.querySelector('#df-9c672824-3a6f-4537-9c44-1d7e6d848b76 button.colab-df-convert');\n",
              "        buttonEl.style.display =\n",
              "          google.colab.kernel.accessAllowed ? 'block' : 'none';\n",
              "\n",
              "        async function convertToInteractive(key) {\n",
              "          const element = document.querySelector('#df-9c672824-3a6f-4537-9c44-1d7e6d848b76');\n",
              "          const dataTable =\n",
              "            await google.colab.kernel.invokeFunction('convertToInteractive',\n",
              "                                                     [key], {});\n",
              "          if (!dataTable) return;\n",
              "\n",
              "          const docLinkHtml = 'Like what you see? Visit the ' +\n",
              "            '<a target=\"_blank\" href=https://colab.research.google.com/notebooks/data_table.ipynb>data table notebook</a>'\n",
              "            + ' to learn more about interactive tables.';\n",
              "          element.innerHTML = '';\n",
              "          dataTable['output_type'] = 'display_data';\n",
              "          await google.colab.output.renderOutput(dataTable, element);\n",
              "          const docLink = document.createElement('div');\n",
              "          docLink.innerHTML = docLinkHtml;\n",
              "          element.appendChild(docLink);\n",
              "        }\n",
              "      </script>\n",
              "    </div>\n",
              "  </div>\n",
              "  "
            ]
          },
          "metadata": {}
        },
        {
          "output_type": "stream",
          "name": "stdout",
          "text": [
            "Accuracy Score : 0.59375\n",
            "Classification Report\n",
            "              precision    recall  f1-score   support\n",
            "\n",
            "           0       0.67      0.58      0.62        45\n",
            "           1       0.63      0.70      0.66        74\n",
            "           2       0.39      0.48      0.43        25\n",
            "           3       0.67      0.31      0.42        13\n",
            "           4       1.00      0.33      0.50         3\n",
            "\n",
            "    accuracy                           0.59       160\n",
            "   macro avg       0.67      0.48      0.53       160\n",
            "weighted avg       0.61      0.59      0.59       160\n",
            "\n"
          ]
        }
      ],
      "source": [
        "# Displaying results\n",
        "print(\"Confusion Matrix\")\n",
        "display(cm_df)\n",
        "print(f\"Accuracy Score : {acc_score}\")\n",
        "print(\"Classification Report\")\n",
        "print(classification_report(y_test, predictions))"
      ]
    },
    {
      "cell_type": "markdown",
      "id": "5dfae66a",
      "metadata": {
        "id": "5dfae66a"
      },
      "source": [
        "#### 7. Rank the Importance of Features"
      ]
    },
    {
      "cell_type": "code",
      "execution_count": 21,
      "id": "7d679fe7",
      "metadata": {
        "id": "7d679fe7"
      },
      "outputs": [],
      "source": [
        "# Calculate feature importance in the Random Forest model.\n",
        "importances = rf_model.feature_importances_"
      ]
    },
    {
      "cell_type": "code",
      "execution_count": 22,
      "id": "84c85f3d",
      "metadata": {
        "colab": {
          "base_uri": "https://localhost:8080/"
        },
        "id": "84c85f3d",
        "outputId": "bbd39a7b-5c5d-480a-a757-0f412a1e3174"
      },
      "outputs": [
        {
          "output_type": "execute_result",
          "data": {
            "text/plain": [
              "[(0.27951895394940435, 'Loss'),\n",
              " (0.23384143388689324, 'Length'),\n",
              " (0.2299491736944444, 'Width'),\n",
              " (0.1720442115111976, 'Crop_Loss'),\n",
              " (0.06880828813485769, 'Injuries'),\n",
              " (0.015837938823202623, 'Fatalities')]"
            ]
          },
          "metadata": {},
          "execution_count": 22
        }
      ],
      "source": [
        "# We can sort the features by their importance.\n",
        "feature_sort = sorted(zip(rf_model.feature_importances_, X.columns), reverse=True)\n",
        "feature_sort"
      ]
    },
    {
      "cell_type": "code",
      "execution_count": 23,
      "id": "8e72e1c8",
      "metadata": {
        "colab": {
          "base_uri": "https://localhost:8080/",
          "height": 300
        },
        "id": "8e72e1c8",
        "outputId": "0c0062a7-3ce1-4392-cb70-59695445289b"
      },
      "outputs": [
        {
          "output_type": "display_data",
          "data": {
            "text/plain": [
              "<Figure size 432x288 with 1 Axes>"
            ],
            "image/png": "[encoded data removed]"
          },
          "metadata": {
            "needs_background": "light"
          }
        }
      ],
      "source": [
        "# Plot Feature Importance\n",
        "features_sorted = []\n",
        "importance_sorted = []\n",
        "\n",
        "for i in feature_sort:\n",
        "    features_sorted += [i[1]]\n",
        "    importance_sorted += [i[0]]\n",
        "\n",
        "plt.title(\"Feature importance\", fontsize=15)\n",
        "plt.xlabel(\"Importance\", fontsize=13)\n",
        "plt.ylabel(\"Features\", fontsize=13)\n",
        "\n",
        "plt.barh(range(len(importance_sorted)), importance_sorted,)\n",
        "plt.yticks(range(len(importance_sorted)), features_sorted);"
      ]
    }
  ],
  "metadata": {
    "kernelspec": {
      "display_name": "mlenv",
      "language": "python",
      "name": "mlenv"
    },
    "language_info": {
      "codemirror_mode": {
        "name": "ipython",
        "version": 3
      },
      "file_extension": ".py",
      "mimetype": "text/x-python",
      "name": "python",
      "nbconvert_exporter": "python",
      "pygments_lexer": "ipython3",
      "version": "3.7.11"
    },
    "colab": {
      "name": "RandomForest_predictEF_ADF.ipynb",
      "provenance": [],
      "collapsed_sections": []
    }
  },
  "nbformat": 4,
  "nbformat_minor": 5
}